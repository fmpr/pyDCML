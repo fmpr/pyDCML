{
 "cells": [
  {
   "cell_type": "markdown",
   "metadata": {},
   "source": [
    "# Mixed ordered logit\n",
    "\n",
    "We begin by performing the necessary imports:"
   ]
  },
  {
   "cell_type": "code",
   "execution_count": 10,
   "metadata": {},
   "outputs": [],
   "source": [
    "import os\n",
    "os.environ[\"CUDA_VISIBLE_DEVICES\"]=\"0\"\n",
    "\n",
    "import sys\n",
    "sys.path.insert(0, \"/home/rodr/code/amortized-mxl-dev/release\") \n",
    "\n",
    "import logging\n",
    "import time\n",
    "import matplotlib.pyplot as plt\n",
    "import numpy as np\n",
    "import pandas as pd\n",
    "import torch\n",
    "\n",
    "# Fix random seed for reproducibility\n",
    "np.random.seed(42)"
   ]
  },
  {
   "cell_type": "markdown",
   "metadata": {},
   "source": [
    "## Import previously simulated data\n",
    "\n",
    "For this demo, we will use previously generated simulated data. Since this is artificial data, we actually know the parameter values that were used to generate the choices: [1, -1, 1, -1]. The (log) cutoff points used to generate the data were: [-0.7 -0.2  0.5]. Our goal is to see whether our model implementation can accurately recover the true parameters that were used to generate the data. "
   ]
  },
  {
   "cell_type": "code",
   "execution_count": 2,
   "metadata": {},
   "outputs": [
    {
     "data": {
      "text/html": [
       "<div>\n",
       "<style scoped>\n",
       "    .dataframe tbody tr th:only-of-type {\n",
       "        vertical-align: middle;\n",
       "    }\n",
       "\n",
       "    .dataframe tbody tr th {\n",
       "        vertical-align: top;\n",
       "    }\n",
       "\n",
       "    .dataframe thead th {\n",
       "        text-align: right;\n",
       "    }\n",
       "</style>\n",
       "<table border=\"1\" class=\"dataframe\">\n",
       "  <thead>\n",
       "    <tr style=\"text-align: right;\">\n",
       "      <th></th>\n",
       "      <th>choice</th>\n",
       "      <th>x0</th>\n",
       "      <th>x1</th>\n",
       "      <th>x2</th>\n",
       "      <th>x3</th>\n",
       "      <th>indID</th>\n",
       "    </tr>\n",
       "  </thead>\n",
       "  <tbody>\n",
       "    <tr>\n",
       "      <th>0</th>\n",
       "      <td>0</td>\n",
       "      <td>1.0</td>\n",
       "      <td>0.585995</td>\n",
       "      <td>0.667338</td>\n",
       "      <td>0.681352</td>\n",
       "      <td>0</td>\n",
       "    </tr>\n",
       "    <tr>\n",
       "      <th>1</th>\n",
       "      <td>0</td>\n",
       "      <td>1.0</td>\n",
       "      <td>0.476451</td>\n",
       "      <td>0.026819</td>\n",
       "      <td>0.443944</td>\n",
       "      <td>1</td>\n",
       "    </tr>\n",
       "    <tr>\n",
       "      <th>2</th>\n",
       "      <td>0</td>\n",
       "      <td>1.0</td>\n",
       "      <td>0.753613</td>\n",
       "      <td>0.768395</td>\n",
       "      <td>0.468803</td>\n",
       "      <td>2</td>\n",
       "    </tr>\n",
       "    <tr>\n",
       "      <th>3</th>\n",
       "      <td>2</td>\n",
       "      <td>1.0</td>\n",
       "      <td>0.605222</td>\n",
       "      <td>0.862393</td>\n",
       "      <td>0.434364</td>\n",
       "      <td>3</td>\n",
       "    </tr>\n",
       "    <tr>\n",
       "      <th>4</th>\n",
       "      <td>0</td>\n",
       "      <td>1.0</td>\n",
       "      <td>0.142990</td>\n",
       "      <td>0.001069</td>\n",
       "      <td>0.608124</td>\n",
       "      <td>4</td>\n",
       "    </tr>\n",
       "  </tbody>\n",
       "</table>\n",
       "</div>"
      ],
      "text/plain": [
       "   choice   x0        x1        x2        x3  indID\n",
       "0       0  1.0  0.585995  0.667338  0.681352      0\n",
       "1       0  1.0  0.476451  0.026819  0.443944      1\n",
       "2       0  1.0  0.753613  0.768395  0.468803      2\n",
       "3       2  1.0  0.605222  0.862393  0.434364      3\n",
       "4       0  1.0  0.142990  0.001069  0.608124      4"
      ]
     },
     "execution_count": 2,
     "metadata": {},
     "output_type": "execute_result"
    }
   ],
   "source": [
    "df = pd.read_csv('../data/fake_data_ordered.csv', index_col=0)\n",
    "num_resp = len(df)\n",
    "df['indID'] = np.arange(num_resp)\n",
    "df.head()"
   ]
  },
  {
   "cell_type": "markdown",
   "metadata": {},
   "source": [
    "## Mixed Logit specification\n",
    "\n",
    "We now make use of the developed formula interface to specify the utilities of the mixed logit model. \n",
    "\n",
    "We begin by defining the fixed effects parameters, the random effects parameters, and the observed variables. This creates instances of Python objects that can be put together to define the utility functions for the different alternatives.\n",
    "\n",
    "Once the utilities are defined, we collect them in a Python dictionary mapping alternative names to their corresponding expressions.\n",
    "\n",
    "Note that, since this is an ordinal regression model, there is only one single utility. The observed values correspond to different \"levels\" of the response variable. "
   ]
  },
  {
   "cell_type": "code",
   "execution_count": 3,
   "metadata": {},
   "outputs": [],
   "source": [
    "from core.dcm_interface import FixedEffect, RandomEffect, ObservedVariable\n",
    "import torch.distributions as dists\n",
    "\n",
    "# define fixed effects parameters\n",
    "B_X0 = FixedEffect('BETA_X0')\n",
    "B_X1 = FixedEffect('BETA_X1')\n",
    "\n",
    "# define random effects parameters\n",
    "B_X2 = RandomEffect('BETA_X2')\n",
    "B_X3 = RandomEffect('BETA_X3')\n",
    "\n",
    "# define observed variables\n",
    "for attr in df.columns:\n",
    "    exec(\"%s = ObservedVariable('%s')\" % (attr,attr))\n",
    "\n",
    "# define utility functions\n",
    "V1 = B_X0*x0 + B_X1*x1 + B_X2*x2 + B_X3*x3\n",
    "\n",
    "# associate utility functions with the names of the alternatives\n",
    "utilities = {\"ALT1\": V1}"
   ]
  },
  {
   "cell_type": "markdown",
   "metadata": {},
   "source": [
    "We are now ready to create a Specification object containing the utilities that we have just defined. Note that we must also specify the type of choice model to be used - a mixed logit model (MXL) in this case.\n",
    "\n",
    "Note that we can inspect the specification by printing the dcm_spec object."
   ]
  },
  {
   "cell_type": "code",
   "execution_count": 4,
   "metadata": {},
   "outputs": [
    {
     "name": "stdout",
     "output_type": "stream",
     "text": [
      "----------------- MXL specification:\n",
      "Alternatives: ['ALT1']\n",
      "Utility functions:\n",
      "   V_ALT1 = BETA_X0*x0 + BETA_X1*x1 + BETA_X2_n*x2 + BETA_X3_n*x3\n",
      "\n",
      "Num. parameters to be estimated: 4\n",
      "Fixed effects params: ['BETA_X0', 'BETA_X1']\n",
      "Random effects params: ['BETA_X2', 'BETA_X3']\n"
     ]
    }
   ],
   "source": [
    "from core.dcm_interface import Specification\n",
    "\n",
    "#Logit(choice, utilities, availability, df)\n",
    "#Logit(choice_test, utilities, availability_test, df_test)\n",
    "\n",
    "# create MXL specification object based on the utilities previously defined\n",
    "dcm_spec = Specification('MXL', utilities)\n",
    "print(dcm_spec)"
   ]
  },
  {
   "cell_type": "markdown",
   "metadata": {},
   "source": [
    "Once the Specification is defined, we need to define the DCM Dataset object that goes along with it. For this, we instantiate the Dataset class with the Pandas dataframe containing the data in the so-called \"wide format\", the name of column in the dataframe containing the observed choices and the dcm_spec that we have previously created.\n",
    "\n",
    "Note that since this is panel data, we must also specify the name of the column in the dataframe that contains the ID of the respondent (this should be a integer ranging from 0 the num_resp-1)."
   ]
  },
  {
   "cell_type": "code",
   "execution_count": 5,
   "metadata": {
    "scrolled": false
   },
   "outputs": [
    {
     "name": "stdout",
     "output_type": "stream",
     "text": [
      "Preparing dataset...\n",
      "\tModel type: MXL\n",
      "\tNum. observations: 10000\n",
      "\tNum. alternatives: 1\n",
      "\tNum. respondents: 10000\n",
      "\tNum. menus: 1\n",
      "\tObservations IDs: [   0    1    2 ... 9997 9998 9999]\n",
      "\tAlternative IDs: None\n",
      "\tRespondent IDs: [   0    1    2 ... 9997 9998 9999]\n",
      "\tAvailability columns: None\n",
      "\tAttribute names: ['x0', 'x1', 'x2', 'x3']\n",
      "\tFixed effects attribute names: ['x0', 'x1']\n",
      "\tFixed effects parameter names: ['BETA_X0', 'BETA_X1']\n",
      "\tRandom effects attribute names: ['x2', 'x3']\n",
      "\tRandom effects parameter names: ['BETA_X2', 'BETA_X3']\n",
      "\tAlternative attributes ndarray.shape: (10000, 1, 4)\n",
      "\tChoices ndarray.shape: (10000, 1)\n",
      "\tAlternatives availability ndarray.shape: (10000, 1, 1)\n",
      "\tData mask ndarray.shape: (10000, 1)\n",
      "\tContext data ndarray.shape: (10000, 0)\n",
      "\tNeural nets data ndarray.shape: (10000, 0)\n",
      "Done!\n"
     ]
    }
   ],
   "source": [
    "from core.dcm_interface import Dataset\n",
    "\n",
    "# create DCM dataset object\n",
    "dcm_dataset = Dataset(df, 'choice', dcm_spec, resp_id_col='indID')"
   ]
  },
  {
   "cell_type": "markdown",
   "metadata": {},
   "source": [
    "As with the specification, we can inspect the DCM dataset by printing the dcm_dataset object:"
   ]
  },
  {
   "cell_type": "code",
   "execution_count": 6,
   "metadata": {
    "scrolled": false
   },
   "outputs": [
    {
     "name": "stdout",
     "output_type": "stream",
     "text": [
      "----------------- DCM dataset:\n",
      "Model type: MXL\n",
      "Num. observations: 10000\n",
      "Num. alternatives: 1\n",
      "Num. respondents: 10000\n",
      "Num. menus: 1\n",
      "Num. fixed effects: 2\n",
      "Num. random effects: 2\n",
      "Attribute names: ['x0', 'x1', 'x2', 'x3']\n"
     ]
    }
   ],
   "source": [
    "print(dcm_dataset)"
   ]
  },
  {
   "cell_type": "markdown",
   "metadata": {},
   "source": [
    "## Bayesian Mixed Ordered Logit Model in PyTorch\n",
    "\n",
    "We will modify the generative process of the core MXL model by introducing a vector of $C-2$ cutoff points $\\boldsymbol\\kappa$, where $C$ denotes the number of levels in the response variable. The cutoffs will then be used by the ``OrderedLogit`` function to compute the probabilities of each level. \n",
    "\n",
    "The resulting generative process is the following (changes to the core MXL model are highlighted in red):\n",
    "\n",
    "1. <font color='red'> Draw cutoff parameters $\\boldsymbol\\kappa \\sim \\mathcal{N}(\\boldsymbol\\eta_0, \\boldsymbol\\Phi_0)$ </font>\n",
    "2. Draw fixed taste parameters $\\boldsymbol\\alpha \\sim \\mathcal{N}(\\boldsymbol\\lambda_0, \\boldsymbol\\Xi_0)$\n",
    "3. Draw mean vector $\\boldsymbol\\zeta \\sim \\mathcal{N}(\\boldsymbol\\mu_0, \\boldsymbol\\Sigma_0)$\n",
    "4. Draw scales vector $\\boldsymbol\\theta \\sim \\mbox{half-Cauchy}(\\boldsymbol\\sigma_0)$\n",
    "5. Draw correlation matrix $\\boldsymbol\\Psi \\sim \\mbox{LKJ}(\\nu)$\n",
    "6. For each decision-maker $n \\in \\{1,\\dots,N\\}$\n",
    "    1. Draw random taste parameters $\\boldsymbol\\beta_n \\sim \\mathcal{N}(\\boldsymbol\\zeta,\\boldsymbol\\Omega)$\n",
    "    2. For each choice occasion $t \\in \\{1,\\dots,T_n\\}$\n",
    "        1. <font color='red'> Draw observed ordered response $y_{nt} \\sim \\mbox{OrderedLogit}(\\boldsymbol\\alpha, \\boldsymbol\\beta_n, \\boldsymbol\\kappa, \\textbf{X}_{nt})$ </font>\n",
    "        \n",
    "where $\\boldsymbol\\Omega = \\mbox{diag}(\\boldsymbol\\theta) \\times \\boldsymbol\\Psi \\times  \\mbox{diag}(\\boldsymbol\\theta)$.\n",
    "\n",
    "For the ``OrderedLogit`` probability, we assume:\n",
    "\n",
    "$$\n",
    "\\begin{align}\n",
    "p(y_{nt} = j) &= p(\\kappa_{i-1} < \\boldsymbol\\alpha^T \\textbf{x}_{ntj,F} + \\boldsymbol\\beta_n^T \\textbf{x}_{ntj,R} < \\kappa_i) \\\\\n",
    "&= \\frac{1}{1+\\exp(-\\kappa_i + \\boldsymbol\\alpha^T \\textbf{x}_{ntj,F} + \\boldsymbol\\beta_n^T \\textbf{x}_{ntj,R})} - \\frac{1}{1+\\exp(-\\kappa_{i-1} + \\boldsymbol\\alpha^T \\textbf{x}_{ntj,F} + \\boldsymbol\\beta_n^T \\textbf{x}_{ntj,R})}\n",
    "\\end{align}\n",
    "$$\n",
    "\n",
    "where $\\kappa_0$ is defined as $-\\infty$ and $\\kappa_C$ as $+\\infty$ (hence, the number of $\\kappa_i$ variables that we need to perform inference on is only $C-2$). Note that we use $\\textbf{x}_{ntj,F}$ and $\\textbf{x}_{ntj,R}$ to distinguish between fixed effects and random effects, respectively.\n",
    "\n",
    "This model is already implemented in the class ``TorchMXL_Ordered``. At the end of this notebook, we provide an explanation of how this extension was implemented. \n",
    "\n",
    "We can instantiate this model from the ``TorchMXL_Ordered`` using the following code. We can the run variational inference to approximate the posterior distribution of the latent variables in the model. Note that since in this case we know the true parameters that were used to generate the simualated choice data, we can pass them to the \"infer\" method in order to obtain additional information during the ELBO maximization (useful for tracking the progress of VI and for other debugging purposes). "
   ]
  },
  {
   "cell_type": "code",
   "execution_count": 7,
   "metadata": {
    "scrolled": false
   },
   "outputs": [
    {
     "name": "stdout",
     "output_type": "stream",
     "text": [
      "[Epoch     0] ELBO: 56100; Loglik: -20462; Acc.: 0.388; Alpha RMSE: 1.000; Beta RMSE: 0.990\n",
      "[Epoch   100] ELBO: 22516; Loglik: -19553; Acc.: 0.388; Alpha RMSE: 0.951; Beta RMSE: 1.046\n",
      "[Epoch   200] ELBO: 24147; Loglik: -14972; Acc.: 0.388; Alpha RMSE: 0.864; Beta RMSE: 1.013\n",
      "[Epoch   300] ELBO: 15727; Loglik: -13902; Acc.: 0.388; Alpha RMSE: 0.798; Beta RMSE: 0.979\n",
      "[Epoch   400] ELBO: 16683; Loglik: -13879; Acc.: 0.388; Alpha RMSE: 0.709; Beta RMSE: 0.985\n",
      "[Epoch   500] ELBO: 16292; Loglik: -13459; Acc.: 0.388; Alpha RMSE: 0.621; Beta RMSE: 0.962\n",
      "[Epoch   600] ELBO: 16674; Loglik: -13230; Acc.: 0.388; Alpha RMSE: 0.554; Beta RMSE: 0.920\n",
      "[Epoch   700] ELBO: 16519; Loglik: -13196; Acc.: 0.388; Alpha RMSE: 0.480; Beta RMSE: 0.897\n",
      "[Epoch   800] ELBO: 16110; Loglik: -13011; Acc.: 0.388; Alpha RMSE: 0.441; Beta RMSE: 0.864\n",
      "[Epoch   900] ELBO: 15663; Loglik: -12956; Acc.: 0.388; Alpha RMSE: 0.362; Beta RMSE: 0.842\n",
      "[Epoch  1000] ELBO: 15560; Loglik: -12768; Acc.: 0.388; Alpha RMSE: 0.304; Beta RMSE: 0.801\n",
      "[Epoch  1100] ELBO: 15218; Loglik: -12865; Acc.: 0.388; Alpha RMSE: 0.218; Beta RMSE: 0.818\n",
      "[Epoch  1200] ELBO: 15551; Loglik: -12812; Acc.: 0.388; Alpha RMSE: 0.185; Beta RMSE: 0.777\n",
      "[Epoch  1300] ELBO: 15486; Loglik: -12795; Acc.: 0.388; Alpha RMSE: 0.154; Beta RMSE: 0.754\n",
      "[Epoch  1400] ELBO: 15658; Loglik: -12873; Acc.: 0.388; Alpha RMSE: 0.118; Beta RMSE: 0.735\n",
      "[Epoch  1500] ELBO: 15126; Loglik: -12768; Acc.: 0.388; Alpha RMSE: 0.114; Beta RMSE: 0.701\n",
      "[Epoch  1600] ELBO: 15156; Loglik: -12858; Acc.: 0.388; Alpha RMSE: 0.097; Beta RMSE: 0.681\n",
      "[Epoch  1700] ELBO: 15256; Loglik: -13074; Acc.: 0.388; Alpha RMSE: 0.122; Beta RMSE: 0.651\n",
      "[Epoch  1800] ELBO: 15664; Loglik: -13086; Acc.: 0.388; Alpha RMSE: 0.115; Beta RMSE: 0.631\n",
      "[Epoch  1900] ELBO: 15132; Loglik: -12921; Acc.: 0.388; Alpha RMSE: 0.139; Beta RMSE: 0.588\n",
      "[Epoch  2000] ELBO: 15055; Loglik: -12893; Acc.: 0.388; Alpha RMSE: 0.132; Beta RMSE: 0.545\n",
      "[Epoch  2100] ELBO: 15116; Loglik: -12993; Acc.: 0.388; Alpha RMSE: 0.135; Beta RMSE: 0.523\n",
      "[Epoch  2200] ELBO: 15692; Loglik: -13045; Acc.: 0.388; Alpha RMSE: 0.161; Beta RMSE: 0.496\n",
      "[Epoch  2300] ELBO: 15144; Loglik: -13066; Acc.: 0.388; Alpha RMSE: 0.157; Beta RMSE: 0.455\n",
      "[Epoch  2400] ELBO: 15099; Loglik: -13100; Acc.: 0.388; Alpha RMSE: 0.142; Beta RMSE: 0.431\n",
      "[Epoch  2500] ELBO: 15055; Loglik: -13017; Acc.: 0.388; Alpha RMSE: 0.137; Beta RMSE: 0.404\n",
      "[Epoch  2600] ELBO: 14877; Loglik: -13085; Acc.: 0.388; Alpha RMSE: 0.132; Beta RMSE: 0.374\n",
      "[Epoch  2700] ELBO: 14887; Loglik: -13246; Acc.: 0.388; Alpha RMSE: 0.135; Beta RMSE: 0.328\n",
      "[Epoch  2800] ELBO: 14818; Loglik: -13222; Acc.: 0.388; Alpha RMSE: 0.114; Beta RMSE: 0.323\n",
      "[Epoch  2900] ELBO: 14761; Loglik: -13240; Acc.: 0.388; Alpha RMSE: 0.127; Beta RMSE: 0.290\n",
      "[Epoch  3000] ELBO: 14801; Loglik: -13267; Acc.: 0.388; Alpha RMSE: 0.130; Beta RMSE: 0.259\n",
      "[Epoch  3100] ELBO: 14677; Loglik: -13307; Acc.: 0.388; Alpha RMSE: 0.126; Beta RMSE: 0.235\n",
      "[Epoch  3200] ELBO: 14849; Loglik: -13456; Acc.: 0.388; Alpha RMSE: 0.126; Beta RMSE: 0.201\n",
      "[Epoch  3300] ELBO: 14983; Loglik: -13386; Acc.: 0.388; Alpha RMSE: 0.122; Beta RMSE: 0.184\n",
      "[Epoch  3400] ELBO: 14618; Loglik: -13325; Acc.: 0.388; Alpha RMSE: 0.117; Beta RMSE: 0.187\n",
      "[Epoch  3500] ELBO: 14613; Loglik: -13383; Acc.: 0.388; Alpha RMSE: 0.109; Beta RMSE: 0.147\n",
      "[Epoch  3600] ELBO: 14755; Loglik: -13511; Acc.: 0.388; Alpha RMSE: 0.117; Beta RMSE: 0.139\n",
      "[Epoch  3700] ELBO: 14570; Loglik: -13450; Acc.: 0.388; Alpha RMSE: 0.102; Beta RMSE: 0.118\n",
      "[Epoch  3800] ELBO: 14679; Loglik: -13503; Acc.: 0.388; Alpha RMSE: 0.087; Beta RMSE: 0.099\n",
      "[Epoch  3900] ELBO: 14716; Loglik: -13575; Acc.: 0.388; Alpha RMSE: 0.086; Beta RMSE: 0.099\n",
      "[Epoch  4000] ELBO: 14712; Loglik: -13595; Acc.: 0.388; Alpha RMSE: 0.083; Beta RMSE: 0.079\n",
      "[Epoch  4100] ELBO: 14551; Loglik: -13563; Acc.: 0.388; Alpha RMSE: 0.085; Beta RMSE: 0.079\n",
      "[Epoch  4200] ELBO: 14475; Loglik: -13448; Acc.: 0.388; Alpha RMSE: 0.065; Beta RMSE: 0.081\n",
      "[Epoch  4300] ELBO: 14515; Loglik: -13579; Acc.: 0.388; Alpha RMSE: 0.074; Beta RMSE: 0.097\n",
      "[Epoch  4400] ELBO: 14535; Loglik: -13639; Acc.: 0.388; Alpha RMSE: 0.078; Beta RMSE: 0.088\n",
      "[Epoch  4500] ELBO: 14596; Loglik: -13657; Acc.: 0.388; Alpha RMSE: 0.069; Beta RMSE: 0.084\n",
      "[Epoch  4600] ELBO: 14530; Loglik: -13648; Acc.: 0.388; Alpha RMSE: 0.071; Beta RMSE: 0.109\n",
      "[Epoch  4700] ELBO: 14518; Loglik: -13652; Acc.: 0.388; Alpha RMSE: 0.056; Beta RMSE: 0.090\n",
      "[Epoch  4800] ELBO: 14489; Loglik: -13636; Acc.: 0.388; Alpha RMSE: 0.062; Beta RMSE: 0.119\n",
      "[Epoch  4900] ELBO: 14567; Loglik: -13659; Acc.: 0.388; Alpha RMSE: 0.054; Beta RMSE: 0.112\n",
      "[Epoch  5000] ELBO: 14428; Loglik: -13642; Acc.: 0.388; Alpha RMSE: 0.059; Beta RMSE: 0.132\n",
      "[Epoch  5100] ELBO: 14510; Loglik: -13739; Acc.: 0.388; Alpha RMSE: 0.045; Beta RMSE: 0.133\n",
      "[Epoch  5200] ELBO: 14503; Loglik: -13712; Acc.: 0.388; Alpha RMSE: 0.055; Beta RMSE: 0.137\n",
      "[Epoch  5300] ELBO: 14558; Loglik: -13804; Acc.: 0.388; Alpha RMSE: 0.083; Beta RMSE: 0.156\n",
      "[Epoch  5400] ELBO: 14517; Loglik: -13791; Acc.: 0.388; Alpha RMSE: 0.060; Beta RMSE: 0.155\n",
      "[Epoch  5500] ELBO: 14517; Loglik: -13768; Acc.: 0.388; Alpha RMSE: 0.061; Beta RMSE: 0.152\n",
      "[Epoch  5600] ELBO: 14516; Loglik: -13808; Acc.: 0.388; Alpha RMSE: 0.057; Beta RMSE: 0.161\n",
      "[Epoch  5700] ELBO: 14434; Loglik: -13729; Acc.: 0.388; Alpha RMSE: 0.060; Beta RMSE: 0.146\n",
      "[Epoch  5800] ELBO: 14447; Loglik: -13768; Acc.: 0.388; Alpha RMSE: 0.073; Beta RMSE: 0.159\n",
      "[Epoch  5900] ELBO: 14459; Loglik: -13792; Acc.: 0.388; Alpha RMSE: 0.069; Beta RMSE: 0.167\n",
      "[Epoch  6000] ELBO: 14472; Loglik: -13818; Acc.: 0.388; Alpha RMSE: 0.063; Beta RMSE: 0.168\n",
      "[Epoch  6100] ELBO: 14475; Loglik: -13813; Acc.: 0.388; Alpha RMSE: 0.066; Beta RMSE: 0.166\n",
      "[Epoch  6200] ELBO: 14473; Loglik: -13835; Acc.: 0.388; Alpha RMSE: 0.053; Beta RMSE: 0.163\n",
      "[Epoch  6300] ELBO: 14443; Loglik: -13823; Acc.: 0.388; Alpha RMSE: 0.065; Beta RMSE: 0.170\n",
      "[Epoch  6400] ELBO: 14468; Loglik: -13811; Acc.: 0.388; Alpha RMSE: 0.075; Beta RMSE: 0.162\n",
      "[Epoch  6500] ELBO: 14528; Loglik: -13912; Acc.: 0.388; Alpha RMSE: 0.075; Beta RMSE: 0.176\n",
      "[Epoch  6600] ELBO: 14458; Loglik: -13852; Acc.: 0.388; Alpha RMSE: 0.075; Beta RMSE: 0.172\n",
      "[Epoch  6700] ELBO: 14395; Loglik: -13817; Acc.: 0.388; Alpha RMSE: 0.065; Beta RMSE: 0.160\n",
      "[Epoch  6800] ELBO: 14486; Loglik: -13864; Acc.: 0.388; Alpha RMSE: 0.090; Beta RMSE: 0.172\n",
      "[Epoch  6900] ELBO: 14474; Loglik: -13883; Acc.: 0.388; Alpha RMSE: 0.077; Beta RMSE: 0.173\n",
      "Elapsed time: 175.0668683052063 \n",
      "\n",
      "True alpha: [ 1 -1]\n",
      "Est. alpha: [ 0.9782518  -0.88276696]\n",
      "\tBETA_X0: 0.978\n",
      "\tBETA_X1: -0.883\n",
      "\n",
      "True zeta: [ 1 -1]\n",
      "Est. zeta: [ 1.1570988 -1.1744796]\n",
      "\tBETA_X2: 1.157\n",
      "\tBETA_X3: -1.174\n",
      "\n"
     ]
    },
    {
     "data": {
      "image/png": "[encoded data removed]",
      "text/plain": [
       "<Figure size 432x288 with 1 Axes>"
      ]
     },
     "metadata": {
      "needs_background": "light"
     },
     "output_type": "display_data"
    },
    {
     "name": "stdout",
     "output_type": "stream",
     "text": [
      "CPU times: user 21min 17s, sys: 1.53 s, total: 21min 18s\n",
      "Wall time: 2min 58s\n"
     ]
    }
   ],
   "source": [
    "%%time\n",
    "\n",
    "from core.torch_mxl_ordered import TorchMXL_Ordered\n",
    "\n",
    "# instantiate MXL model\n",
    "num_categories = 5\n",
    "mxl = TorchMXL_Ordered(dcm_dataset, num_categories, batch_size=num_resp, use_inference_net=False, use_cuda=True)\n",
    "\n",
    "# run Bayesian inference (variational inference)\n",
    "results = mxl.infer(num_epochs=7000, true_alpha=np.array([1, -1]), true_beta=np.array([1, -1]))"
   ]
  },
  {
   "cell_type": "code",
   "execution_count": 30,
   "metadata": {},
   "outputs": [],
   "source": [
    "# log(true_cutoffs)=[-0.7 -0.2  0.5]"
   ]
  },
  {
   "cell_type": "markdown",
   "metadata": {},
   "source": [
    "Lets now compare the inferred cutoffs with the true cutoffs:\n",
    "log(true_cutoffs) = [-0.7 -0.2  0.5]\n",
    "\n",
    "The ones that we infered are:"
   ]
  },
  {
   "cell_type": "code",
   "execution_count": 11,
   "metadata": {},
   "outputs": [
    {
     "data": {
      "text/plain": [
       "tensor([-0.6353, -0.1080,  0.5551], device='cuda:0', grad_fn=<LogBackward0>)"
      ]
     },
     "execution_count": 11,
     "metadata": {},
     "output_type": "execute_result"
    }
   ],
   "source": [
    "torch.log(mxl.softplus(mxl.kappa_mu))"
   ]
  },
  {
   "cell_type": "markdown",
   "metadata": {},
   "source": [
    "Quite similar values!"
   ]
  },
  {
   "cell_type": "markdown",
   "metadata": {},
   "source": [
    "The \"results\" dictionary containts a summary of the results of variational inference, including means of the posterior approximations for the different parameters in the model:"
   ]
  },
  {
   "cell_type": "code",
   "execution_count": 33,
   "metadata": {},
   "outputs": [
    {
     "data": {
      "text/plain": [
       "{'Estimation time': 64.12379693984985,\n",
       " 'Est. alpha': array([ 1.0848361, -0.9402135], dtype=float32),\n",
       " 'Est. zeta': array([ 1.0654774, -1.1859826], dtype=float32),\n",
       " 'Est. beta_n': array([[ 0.7436627 , -1.5113661 ],\n",
       "        [ 1.1884117 , -1.5241228 ],\n",
       "        [ 0.5740844 , -1.2508584 ],\n",
       "        ...,\n",
       "        [ 0.94637936, -1.5531573 ],\n",
       "        [ 1.308997  , -1.1411221 ],\n",
       "        [ 1.1743374 , -1.6200343 ]], dtype=float32),\n",
       " 'ELBO': 14481.8515625,\n",
       " 'Loglikelihood': -13628.396484375,\n",
       " 'Accuracy': 0.38760000467300415}"
      ]
     },
     "execution_count": 33,
     "metadata": {},
     "output_type": "execute_result"
    }
   ],
   "source": [
    "results"
   ]
  },
  {
   "cell_type": "markdown",
   "metadata": {},
   "source": [
    "This interface is currently being improved to include additional output information, but additional information can be obtained from the attributes of the \"mxl\" object for now. "
   ]
  },
  {
   "cell_type": "markdown",
   "metadata": {},
   "source": [
    "## Implementation details"
   ]
  },
  {
   "cell_type": "markdown",
   "metadata": {},
   "source": [
    "TODO"
   ]
  }
 ],
 "metadata": {
  "kernelspec": {
   "display_name": "Python 3 (ipykernel)",
   "language": "python",
   "name": "python3"
  },
  "language_info": {
   "codemirror_mode": {
    "name": "ipython",
    "version": 3
   },
   "file_extension": ".py",
   "mimetype": "text/x-python",
   "name": "python",
   "nbconvert_exporter": "python",
   "pygments_lexer": "ipython3",
   "version": "3.8.10"
  },
  "widgets": {
   "application/vnd.jupyter.widget-state+json": {
    "state": {},
    "version_major": 2,
    "version_minor": 0
   }
  }
 },
 "nbformat": 4,
 "nbformat_minor": 4
}
