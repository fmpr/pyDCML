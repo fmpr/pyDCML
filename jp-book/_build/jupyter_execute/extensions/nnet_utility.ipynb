{
 "cells": [
  {
   "cell_type": "markdown",
   "metadata": {},
   "source": [
    "# Neural networks in utilities\n",
    "\n",
    "We begin by performing the necessary imports:"
   ]
  },
  {
   "cell_type": "code",
   "execution_count": 1,
   "metadata": {},
   "outputs": [],
   "source": [
    "import os\n",
    "os.environ[\"CUDA_VISIBLE_DEVICES\"]=\"0\"\n",
    "\n",
    "import sys\n",
    "sys.path.insert(0, \"/home/rodr/code/amortized-mxl-dev/release\") \n",
    "\n",
    "import logging\n",
    "import time\n",
    "import matplotlib.pyplot as plt\n",
    "import numpy as np\n",
    "import pandas as pd\n",
    "\n",
    "# Fix random seed for reproducibility\n",
    "np.random.seed(42)"
   ]
  },
  {
   "cell_type": "markdown",
   "metadata": {},
   "source": [
    "## Generate simulated data\n",
    "\n",
    "We predefine the fixed effects parameters (true_alpha) and random effects parameters (true_beta), as well as the covariance matrix (true_Omega), and sample simulated choice data for 500 respondents (num_resp), each with 5 choice situations (num_menus). The number of choice alternatives is set to 5. "
   ]
  },
  {
   "cell_type": "code",
   "execution_count": 2,
   "metadata": {},
   "outputs": [
    {
     "name": "stdout",
     "output_type": "stream",
     "text": [
      "Generating fake data...\n",
      "Error: 45.16\n"
     ]
    },
    {
     "data": {
      "text/html": [
       "<div>\n",
       "<style scoped>\n",
       "    .dataframe tbody tr th:only-of-type {\n",
       "        vertical-align: middle;\n",
       "    }\n",
       "\n",
       "    .dataframe tbody tr th {\n",
       "        vertical-align: top;\n",
       "    }\n",
       "\n",
       "    .dataframe thead th {\n",
       "        text-align: right;\n",
       "    }\n",
       "</style>\n",
       "<table border=\"1\" class=\"dataframe\">\n",
       "  <thead>\n",
       "    <tr style=\"text-align: right;\">\n",
       "      <th></th>\n",
       "      <th>ALT1_XF1</th>\n",
       "      <th>ALT1_XF2</th>\n",
       "      <th>ALT1_XF3</th>\n",
       "      <th>ALT1_XR1</th>\n",
       "      <th>ALT1_XR2</th>\n",
       "      <th>ALT1_XR3</th>\n",
       "      <th>ALT1_XR4</th>\n",
       "      <th>ALT1_XR5</th>\n",
       "      <th>ALT2_XF1</th>\n",
       "      <th>ALT2_XF2</th>\n",
       "      <th>...</th>\n",
       "      <th>ALT5_XR1</th>\n",
       "      <th>ALT5_XR2</th>\n",
       "      <th>ALT5_XR3</th>\n",
       "      <th>ALT5_XR4</th>\n",
       "      <th>ALT5_XR5</th>\n",
       "      <th>choice</th>\n",
       "      <th>indID</th>\n",
       "      <th>menuID</th>\n",
       "      <th>obsID</th>\n",
       "      <th>ones</th>\n",
       "    </tr>\n",
       "  </thead>\n",
       "  <tbody>\n",
       "    <tr>\n",
       "      <th>0</th>\n",
       "      <td>0.374540</td>\n",
       "      <td>0.950714</td>\n",
       "      <td>0.731994</td>\n",
       "      <td>0.502929</td>\n",
       "      <td>0.474680</td>\n",
       "      <td>0.301972</td>\n",
       "      <td>0.539872</td>\n",
       "      <td>0.248391</td>\n",
       "      <td>0.598658</td>\n",
       "      <td>0.156019</td>\n",
       "      <td>...</td>\n",
       "      <td>0.237133</td>\n",
       "      <td>0.323644</td>\n",
       "      <td>0.292095</td>\n",
       "      <td>0.797652</td>\n",
       "      <td>0.171230</td>\n",
       "      <td>2</td>\n",
       "      <td>0</td>\n",
       "      <td>0</td>\n",
       "      <td>0</td>\n",
       "      <td>1</td>\n",
       "    </tr>\n",
       "    <tr>\n",
       "      <th>1</th>\n",
       "      <td>0.183405</td>\n",
       "      <td>0.304242</td>\n",
       "      <td>0.524756</td>\n",
       "      <td>0.608472</td>\n",
       "      <td>0.051355</td>\n",
       "      <td>0.549528</td>\n",
       "      <td>0.063914</td>\n",
       "      <td>0.175877</td>\n",
       "      <td>0.431945</td>\n",
       "      <td>0.291229</td>\n",
       "      <td>...</td>\n",
       "      <td>0.981368</td>\n",
       "      <td>0.299731</td>\n",
       "      <td>0.278902</td>\n",
       "      <td>0.973245</td>\n",
       "      <td>0.728234</td>\n",
       "      <td>2</td>\n",
       "      <td>0</td>\n",
       "      <td>1</td>\n",
       "      <td>1</td>\n",
       "      <td>1</td>\n",
       "    </tr>\n",
       "    <tr>\n",
       "      <th>2</th>\n",
       "      <td>0.607545</td>\n",
       "      <td>0.170524</td>\n",
       "      <td>0.065052</td>\n",
       "      <td>0.585298</td>\n",
       "      <td>0.699323</td>\n",
       "      <td>0.709927</td>\n",
       "      <td>0.763336</td>\n",
       "      <td>0.067189</td>\n",
       "      <td>0.948886</td>\n",
       "      <td>0.965632</td>\n",
       "      <td>...</td>\n",
       "      <td>0.839992</td>\n",
       "      <td>0.718722</td>\n",
       "      <td>0.500256</td>\n",
       "      <td>0.273207</td>\n",
       "      <td>0.877216</td>\n",
       "      <td>3</td>\n",
       "      <td>0</td>\n",
       "      <td>2</td>\n",
       "      <td>2</td>\n",
       "      <td>1</td>\n",
       "    </tr>\n",
       "    <tr>\n",
       "      <th>3</th>\n",
       "      <td>0.662522</td>\n",
       "      <td>0.311711</td>\n",
       "      <td>0.520068</td>\n",
       "      <td>0.776655</td>\n",
       "      <td>0.837907</td>\n",
       "      <td>0.140789</td>\n",
       "      <td>0.314813</td>\n",
       "      <td>0.424885</td>\n",
       "      <td>0.546710</td>\n",
       "      <td>0.184854</td>\n",
       "      <td>...</td>\n",
       "      <td>0.296403</td>\n",
       "      <td>0.507946</td>\n",
       "      <td>0.230841</td>\n",
       "      <td>0.514504</td>\n",
       "      <td>0.683332</td>\n",
       "      <td>3</td>\n",
       "      <td>0</td>\n",
       "      <td>3</td>\n",
       "      <td>3</td>\n",
       "      <td>1</td>\n",
       "    </tr>\n",
       "    <tr>\n",
       "      <th>4</th>\n",
       "      <td>0.388677</td>\n",
       "      <td>0.271349</td>\n",
       "      <td>0.828738</td>\n",
       "      <td>0.085521</td>\n",
       "      <td>0.870117</td>\n",
       "      <td>0.593746</td>\n",
       "      <td>0.989603</td>\n",
       "      <td>0.025592</td>\n",
       "      <td>0.356753</td>\n",
       "      <td>0.280935</td>\n",
       "      <td>...</td>\n",
       "      <td>0.584885</td>\n",
       "      <td>0.684462</td>\n",
       "      <td>0.256079</td>\n",
       "      <td>0.832849</td>\n",
       "      <td>0.449690</td>\n",
       "      <td>0</td>\n",
       "      <td>0</td>\n",
       "      <td>4</td>\n",
       "      <td>4</td>\n",
       "      <td>1</td>\n",
       "    </tr>\n",
       "  </tbody>\n",
       "</table>\n",
       "<p>5 rows × 45 columns</p>\n",
       "</div>"
      ],
      "text/plain": [
       "   ALT1_XF1  ALT1_XF2  ALT1_XF3  ALT1_XR1  ALT1_XR2  ALT1_XR3  ALT1_XR4  \\\n",
       "0  0.374540  0.950714  0.731994  0.502929  0.474680  0.301972  0.539872   \n",
       "1  0.183405  0.304242  0.524756  0.608472  0.051355  0.549528  0.063914   \n",
       "2  0.607545  0.170524  0.065052  0.585298  0.699323  0.709927  0.763336   \n",
       "3  0.662522  0.311711  0.520068  0.776655  0.837907  0.140789  0.314813   \n",
       "4  0.388677  0.271349  0.828738  0.085521  0.870117  0.593746  0.989603   \n",
       "\n",
       "   ALT1_XR5  ALT2_XF1  ALT2_XF2  ...  ALT5_XR1  ALT5_XR2  ALT5_XR3  ALT5_XR4  \\\n",
       "0  0.248391  0.598658  0.156019  ...  0.237133  0.323644  0.292095  0.797652   \n",
       "1  0.175877  0.431945  0.291229  ...  0.981368  0.299731  0.278902  0.973245   \n",
       "2  0.067189  0.948886  0.965632  ...  0.839992  0.718722  0.500256  0.273207   \n",
       "3  0.424885  0.546710  0.184854  ...  0.296403  0.507946  0.230841  0.514504   \n",
       "4  0.025592  0.356753  0.280935  ...  0.584885  0.684462  0.256079  0.832849   \n",
       "\n",
       "   ALT5_XR5  choice  indID  menuID  obsID  ones  \n",
       "0  0.171230       2      0       0      0     1  \n",
       "1  0.728234       2      0       1      1     1  \n",
       "2  0.877216       3      0       2      2     1  \n",
       "3  0.683332       3      0       3      3     1  \n",
       "4  0.449690       0      0       4      4     1  \n",
       "\n",
       "[5 rows x 45 columns]"
      ]
     },
     "execution_count": 2,
     "metadata": {},
     "output_type": "execute_result"
    }
   ],
   "source": [
    "from core.dcm_fakedata import generate_fake_data_wide\n",
    "\n",
    "num_resp = 500\n",
    "num_menus = 5\n",
    "num_alternatives = 5\n",
    "\n",
    "true_alpha = np.array([-0.8, 0.8, 1.2])\n",
    "true_beta = np.array([-0.8, 0.8, 1.0, -0.8, 1.5])\n",
    "# dynamic version of generating Omega\n",
    "corr = 0.8\n",
    "scale_factor = 1.0\n",
    "true_Omega = corr*np.ones((len(true_beta),len(true_beta))) # off-diagonal values of cov matrix\n",
    "true_Omega[np.arange(len(true_beta)), np.arange(len(true_beta))] = 1.0 # diagonal values of cov matrix\n",
    "true_Omega *= scale_factor\n",
    "\n",
    "df = generate_fake_data_wide(num_resp, num_menus, num_alternatives, true_alpha, true_beta, true_Omega)\n",
    "df.head()"
   ]
  },
  {
   "cell_type": "markdown",
   "metadata": {},
   "source": [
    "## Mixed Logit specification with Neural Nets in utilities\n",
    "\n",
    "We now make use of the developed formula interface to specify the utilities of the mixed logit model. \n",
    "\n",
    "We begin by defining the fixed effects parameters, the random effects parameters, and the observed variables. This creates instances of Python objects that can be put together to define the utility functions for the different alternatives.\n",
    "\n",
    "For this model extension, we will also have to define the Neural Network that we will be using in the utilities. To simplify the usage, we have added support for Neural Networks to the formula interface. We can define a fully-connected neural network using:\n",
    "\n",
    "```python\n",
    "NNet = NeuralNetwork('NNet')\n",
    "```\n",
    "\n",
    "We can now use this ``NNet`` as a function in the utilities' specification:\n",
    "\n",
    "```python\n",
    "V1 = NNet('ALT1', ALT1_XF1, ALT1_XF2, ALT1_XF3) + B_XF1*ALT1_XF1 + B_XF2*ALT1_XF2 + B_XF3*ALT1_XF3 + B_XR1*ALT1_XR1 + B_XR2*ALT1_XR2 + B_XR3*ALT1_XR3 + B_XR4*ALT1_XR4 + B_XR5*ALT1_XR5\n",
    "```\n",
    "\n",
    "In this particular case, we are replacing the linear relationship \n",
    "\n",
    "Once the utilities are defined, we collect them in a Python dictionary mapping alternative names to their corresponding expressions."
   ]
  },
  {
   "cell_type": "code",
   "execution_count": 3,
   "metadata": {},
   "outputs": [],
   "source": [
    "from core.dcm_interface import FixedEffect, RandomEffect, ObservedVariable, NeuralNetwork\n",
    "import torch.distributions as dists\n",
    "\n",
    "# define observed variables\n",
    "for attr in df.columns:\n",
    "    exec(\"%s = ObservedVariable('%s')\" % (attr,attr))\n",
    "\n",
    "# define fixed effects parameters\n",
    "B_XF1 = FixedEffect('BETA_XF1')\n",
    "B_XF2 = FixedEffect('BETA_XF2')\n",
    "B_XF3 = FixedEffect('BETA_XF3')\n",
    "\n",
    "# define random effects parameters\n",
    "B_XR1 = RandomEffect('BETA_XR1')\n",
    "B_XR2 = RandomEffect('BETA_XR2')\n",
    "B_XR3 = RandomEffect('BETA_XR3')\n",
    "B_XR4 = RandomEffect('BETA_XR4')\n",
    "B_XR5 = RandomEffect('BETA_XR5')\n",
    "\n",
    "NNet = NeuralNetwork('NNet')\n",
    "\n",
    "# define utility functions\n",
    "V1 = NNet('ALT1', ALT1_XF1, ALT1_XF2, ALT1_XF3) + B_XF1*ALT1_XF1 + B_XF2*ALT1_XF2 + B_XF3*ALT1_XF3 + B_XR1*ALT1_XR1 + B_XR2*ALT1_XR2 + B_XR3*ALT1_XR3 + B_XR4*ALT1_XR4 + B_XR5*ALT1_XR5\n",
    "V2 = NNet('ALT2', ALT2_XF1, ALT2_XF2, ALT2_XF3) + B_XF1*ALT2_XF1 + B_XF2*ALT2_XF2 + B_XF3*ALT2_XF3 + B_XR1*ALT2_XR1 + B_XR2*ALT2_XR2 + B_XR3*ALT2_XR3 + B_XR4*ALT2_XR4 + B_XR5*ALT2_XR5\n",
    "V3 = NNet('ALT3', ALT3_XF1, ALT3_XF2, ALT3_XF3) + B_XF1*ALT3_XF1 + B_XF2*ALT3_XF2 + B_XF3*ALT3_XF3 + B_XR1*ALT3_XR1 + B_XR2*ALT3_XR2 + B_XR3*ALT3_XR3 + B_XR4*ALT3_XR4 + B_XR5*ALT3_XR5\n",
    "V4 = NNet('ALT4', ALT4_XF1, ALT4_XF2, ALT4_XF3) + B_XF1*ALT4_XF1 + B_XF2*ALT4_XF2 + B_XF3*ALT4_XF3 + B_XR1*ALT4_XR1 + B_XR2*ALT4_XR2 + B_XR3*ALT4_XR3 + B_XR4*ALT4_XR4 + B_XR5*ALT4_XR5\n",
    "V5 = NNet('ALT5', ALT5_XF1, ALT5_XF2, ALT5_XF3) + B_XF1*ALT5_XF1 + B_XF2*ALT5_XF2 + B_XF3*ALT5_XF3 + B_XR1*ALT5_XR1 + B_XR2*ALT5_XR2 + B_XR3*ALT5_XR3 + B_XR4*ALT5_XR4 + B_XR5*ALT5_XR5\n",
    "\n",
    "# associate utility functions with the names of the alternatives\n",
    "utilities = {\"ALT1\": V1, \"ALT2\": V2, \"ALT3\": V3, \"ALT4\": V4, \"ALT5\": V5}"
   ]
  },
  {
   "cell_type": "markdown",
   "metadata": {},
   "source": [
    "We are now ready to create a Specification object containing the utilities that we have just defined. Note that we must also specify the type of choice model to be used - a mixed logit model (MXL) in this case.\n",
    "\n",
    "Note that we can inspect the specification by printing the dcm_spec object."
   ]
  },
  {
   "cell_type": "code",
   "execution_count": 4,
   "metadata": {},
   "outputs": [
    {
     "name": "stdout",
     "output_type": "stream",
     "text": [
      "----------------- MXL specification:\n",
      "Alternatives: ['ALT1', 'ALT2', 'ALT3', 'ALT4', 'ALT5']\n",
      "Utility functions:\n",
      "   V_ALT1 =  + BETA_XF1*ALT1_XF1 + BETA_XF2*ALT1_XF2 + BETA_XF3*ALT1_XF3 + BETA_XR1_n*ALT1_XR1 + BETA_XR2_n*ALT1_XR2 + BETA_XR3_n*ALT1_XR3 + BETA_XR4_n*ALT1_XR4 + BETA_XR5_n*ALT1_XR5\n",
      "   V_ALT2 =  + BETA_XF1*ALT2_XF1 + BETA_XF2*ALT2_XF2 + BETA_XF3*ALT2_XF3 + BETA_XR1_n*ALT2_XR1 + BETA_XR2_n*ALT2_XR2 + BETA_XR3_n*ALT2_XR3 + BETA_XR4_n*ALT2_XR4 + BETA_XR5_n*ALT2_XR5\n",
      "   V_ALT3 =  + BETA_XF1*ALT3_XF1 + BETA_XF2*ALT3_XF2 + BETA_XF3*ALT3_XF3 + BETA_XR1_n*ALT3_XR1 + BETA_XR2_n*ALT3_XR2 + BETA_XR3_n*ALT3_XR3 + BETA_XR4_n*ALT3_XR4 + BETA_XR5_n*ALT3_XR5\n",
      "   V_ALT4 =  + BETA_XF1*ALT4_XF1 + BETA_XF2*ALT4_XF2 + BETA_XF3*ALT4_XF3 + BETA_XR1_n*ALT4_XR1 + BETA_XR2_n*ALT4_XR2 + BETA_XR3_n*ALT4_XR3 + BETA_XR4_n*ALT4_XR4 + BETA_XR5_n*ALT4_XR5\n",
      "   V_ALT5 =  + BETA_XF1*ALT5_XF1 + BETA_XF2*ALT5_XF2 + BETA_XF3*ALT5_XF3 + BETA_XR1_n*ALT5_XR1 + BETA_XR2_n*ALT5_XR2 + BETA_XR3_n*ALT5_XR3 + BETA_XR4_n*ALT5_XR4 + BETA_XR5_n*ALT5_XR5\n",
      "\n",
      "Num. parameters to be estimated: 8\n",
      "Fixed effects params: ['BETA_XF1', 'BETA_XF2', 'BETA_XF3']\n",
      "Random effects params: ['BETA_XR1', 'BETA_XR2', 'BETA_XR3', 'BETA_XR4', 'BETA_XR5']\n"
     ]
    }
   ],
   "source": [
    "from core.dcm_interface import Specification\n",
    "\n",
    "# create MXL specification object based on the utilities previously defined\n",
    "dcm_spec = Specification('MXL', utilities)\n",
    "print(dcm_spec)"
   ]
  },
  {
   "cell_type": "markdown",
   "metadata": {},
   "source": [
    "Once the Specification is defined, we need to define the DCM Dataset object that goes along with it. For this, we instantiate the Dataset class with the Pandas dataframe containing the data in the so-called \"wide format\", the name of column in the dataframe containing the observed choices and the dcm_spec that we have previously created.\n",
    "\n",
    "Note that since this is panel data, we must also specify the name of the column in the dataframe that contains the ID of the respondent (this should be a integer ranging from 0 the num_resp-1)."
   ]
  },
  {
   "cell_type": "code",
   "execution_count": 5,
   "metadata": {
    "scrolled": false
   },
   "outputs": [
    {
     "name": "stdout",
     "output_type": "stream",
     "text": [
      "Preparing dataset...\n",
      "\tModel type: MXL\n",
      "\tNum. observations: 2500\n",
      "\tNum. alternatives: 5\n",
      "\tNum. respondents: 500\n",
      "\tNum. menus: 5\n",
      "\tObservations IDs: [   0    1    2 ... 2497 2498 2499]\n",
      "\tAlternative IDs: None\n",
      "\tRespondent IDs: [  0   0   0 ... 499 499 499]\n",
      "\tAvailability columns: None\n",
      "\tAttribute names: ['ALT1_XF1', 'ALT1_XF2', 'ALT1_XF3', 'ALT1_XR1', 'ALT1_XR2', 'ALT1_XR3', 'ALT1_XR4', 'ALT1_XR5', 'ALT2_XF1', 'ALT2_XF2', 'ALT2_XF3', 'ALT2_XR1', 'ALT2_XR2', 'ALT2_XR3', 'ALT2_XR4', 'ALT2_XR5', 'ALT3_XF1', 'ALT3_XF2', 'ALT3_XF3', 'ALT3_XR1', 'ALT3_XR2', 'ALT3_XR3', 'ALT3_XR4', 'ALT3_XR5', 'ALT4_XF1', 'ALT4_XF2', 'ALT4_XF3', 'ALT4_XR1', 'ALT4_XR2', 'ALT4_XR3', 'ALT4_XR4', 'ALT4_XR5', 'ALT5_XF1', 'ALT5_XF2', 'ALT5_XF3', 'ALT5_XR1', 'ALT5_XR2', 'ALT5_XR3', 'ALT5_XR4', 'ALT5_XR5']\n",
      "\tFixed effects attribute names: ['ALT1_XF1', 'ALT1_XF2', 'ALT1_XF3', 'ALT2_XF1', 'ALT2_XF2', 'ALT2_XF3', 'ALT3_XF1', 'ALT3_XF2', 'ALT3_XF3', 'ALT4_XF1', 'ALT4_XF2', 'ALT4_XF3', 'ALT5_XF1', 'ALT5_XF2', 'ALT5_XF3']\n",
      "\tFixed effects parameter names: ['BETA_XF1', 'BETA_XF2', 'BETA_XF3', 'BETA_XF1', 'BETA_XF2', 'BETA_XF3', 'BETA_XF1', 'BETA_XF2', 'BETA_XF3', 'BETA_XF1', 'BETA_XF2', 'BETA_XF3', 'BETA_XF1', 'BETA_XF2', 'BETA_XF3']\n",
      "\tRandom effects attribute names: ['ALT1_XR1', 'ALT1_XR2', 'ALT1_XR3', 'ALT1_XR4', 'ALT1_XR5', 'ALT2_XR1', 'ALT2_XR2', 'ALT2_XR3', 'ALT2_XR4', 'ALT2_XR5', 'ALT3_XR1', 'ALT3_XR2', 'ALT3_XR3', 'ALT3_XR4', 'ALT3_XR5', 'ALT4_XR1', 'ALT4_XR2', 'ALT4_XR3', 'ALT4_XR4', 'ALT4_XR5', 'ALT5_XR1', 'ALT5_XR2', 'ALT5_XR3', 'ALT5_XR4', 'ALT5_XR5']\n",
      "\tRandom effects parameter names: ['BETA_XR1', 'BETA_XR2', 'BETA_XR3', 'BETA_XR4', 'BETA_XR5', 'BETA_XR1', 'BETA_XR2', 'BETA_XR3', 'BETA_XR4', 'BETA_XR5', 'BETA_XR1', 'BETA_XR2', 'BETA_XR3', 'BETA_XR4', 'BETA_XR5', 'BETA_XR1', 'BETA_XR2', 'BETA_XR3', 'BETA_XR4', 'BETA_XR5', 'BETA_XR1', 'BETA_XR2', 'BETA_XR3', 'BETA_XR4', 'BETA_XR5']\n",
      "\tAlternative attributes ndarray.shape: (500, 5, 40)\n",
      "\tChoices ndarray.shape: (500, 5)\n",
      "\tAlternatives availability ndarray.shape: (500, 5, 5)\n",
      "\tData mask ndarray.shape: (500, 5)\n",
      "\tContext data ndarray.shape: (500, 0)\n",
      "\tNeural nets data ndarray.shape: (500, 5, 15)\n",
      "Done!\n"
     ]
    }
   ],
   "source": [
    "from core.dcm_interface import Dataset\n",
    "\n",
    "# create DCM dataset object\n",
    "dcm_dataset = Dataset(df, 'choice', dcm_spec, resp_id_col='indID')"
   ]
  },
  {
   "cell_type": "markdown",
   "metadata": {},
   "source": [
    "As with the specification, we can inspect the DCM dataset by printing the dcm_dataset object:"
   ]
  },
  {
   "cell_type": "code",
   "execution_count": 6,
   "metadata": {
    "scrolled": false
   },
   "outputs": [
    {
     "name": "stdout",
     "output_type": "stream",
     "text": [
      "----------------- DCM dataset:\n",
      "Model type: MXL\n",
      "Num. observations: 2500\n",
      "Num. alternatives: 5\n",
      "Num. respondents: 500\n",
      "Num. menus: 5\n",
      "Num. fixed effects: 15\n",
      "Num. random effects: 25\n",
      "Attribute names: ['ALT1_XF1', 'ALT1_XF2', 'ALT1_XF3', 'ALT1_XR1', 'ALT1_XR2', 'ALT1_XR3', 'ALT1_XR4', 'ALT1_XR5', 'ALT2_XF1', 'ALT2_XF2', 'ALT2_XF3', 'ALT2_XR1', 'ALT2_XR2', 'ALT2_XR3', 'ALT2_XR4', 'ALT2_XR5', 'ALT3_XF1', 'ALT3_XF2', 'ALT3_XF3', 'ALT3_XR1', 'ALT3_XR2', 'ALT3_XR3', 'ALT3_XR4', 'ALT3_XR5', 'ALT4_XF1', 'ALT4_XF2', 'ALT4_XF3', 'ALT4_XR1', 'ALT4_XR2', 'ALT4_XR3', 'ALT4_XR4', 'ALT4_XR5', 'ALT5_XF1', 'ALT5_XF2', 'ALT5_XF3', 'ALT5_XR1', 'ALT5_XR2', 'ALT5_XR3', 'ALT5_XR4', 'ALT5_XR5']\n"
     ]
    }
   ],
   "source": [
    "print(dcm_dataset)"
   ]
  },
  {
   "cell_type": "markdown",
   "metadata": {},
   "source": [
    "## Bayesian Mixed Logit Model with Neural Networks in the utility functions in PyTorch\n",
    "\n",
    "In the original implementation of the core MXL model, we considered utility function of the form:\n",
    "\n",
    "$\\require{color}$\n",
    "$$\n",
    "V_j = \\boldsymbol\\alpha^T \\textbf{x}_{ntj,F} + \\boldsymbol\\beta_n^T \\textbf{x}_{ntj,R}, \n",
    "$$\n",
    "\n",
    "where $\\textbf{x}_{ntj,F}^T$ and $\\textbf{x}_{ntj,R}^T)$ are used to distinguish between covariates that pertain to the fixed parameters $\\boldsymbol\\alpha$ and random parameters $\\boldsymbol\\beta_n$, respectively.\n",
    "\n",
    "We will now extend this to support utilties of the form:\n",
    "\n",
    "$$\n",
    "V_j = \\boldsymbol\\alpha^T \\textbf{x}_{ntj,F} + \\boldsymbol\\beta_n^T \\textbf{x}_{ntj,R} \\color{red} + f_{\\boldsymbol\\theta}(\\textbf{x}_{ntj,E}), \n",
    "$$\n",
    "\n",
    "where $f_{\\boldsymbol\\theta}$ is a neural network with parameters $\\boldsymbol\\theta$, and $\\textbf{x}_{ntj,E}$ is a set of additional covariates describing either the alternative $j$ or the socio-demographic characteristics of the individual $n$ (or both!). \n",
    "\n",
    "In our implementation, we will NOT consider a prior over $\\boldsymbol\\theta$ and perform Bayesian inference on its values. Instead, we find point estimates for $\\boldsymbol\\theta$ using a Type-II Maximum Likelihood approach (also commonly refered to as \"Empirical Bayes\"). We can obtain Maximum Likelihood estimates of $\\boldsymbol\\theta$ by directly maximizing the ELBO w.r.t. $\\boldsymbol\\theta$ using stochastic gradient descent. As a consequence, the generative process of this model extension remains similar to the core MXL model:\n",
    "\n",
    "1. Draw fixed taste parameters $\\boldsymbol\\alpha \\sim \\mathcal{N}(\\boldsymbol\\lambda_0, \\boldsymbol\\Xi_0)$\n",
    "2. Draw mean vector $\\boldsymbol\\zeta \\sim \\mathcal{N}(\\boldsymbol\\mu_0, \\boldsymbol\\Sigma_0)$\n",
    "3. Draw scales vector $\\boldsymbol\\theta \\sim \\mbox{half-Cauchy}(\\boldsymbol\\sigma_0)$\n",
    "4. Draw correlation matrix $\\boldsymbol\\Psi \\sim \\mbox{LKJ}(\\nu)$\n",
    "5. For each decision-maker $n \\in \\{1,\\dots,N\\}$\n",
    "    1. Draw random taste parameters $\\boldsymbol\\beta_n \\sim \\mathcal{N}(\\boldsymbol\\zeta,\\boldsymbol\\Omega)$\n",
    "    2. For each choice occasion $t \\in \\{1,\\dots,T_n\\}$\n",
    "        1. Draw observed choice $y_{nt} \\sim \\mbox{MNL}(\\boldsymbol\\alpha, \\boldsymbol\\beta_n, \\textbf{X}_{nt})$\n",
    "        \n",
    "\n",
    "This model is already implemented in the class ``TorchMXL_NNET``. At the end of this notebook, we provide an explanation of how this extension was implemented. \n",
    "\n",
    "We can instantiate this model from the ``TorchMXL_NNET`` using the following code. We can the run variational inference to approximate the posterior distribution of the latent variables in the model. Note that since in this case we know the true parameters that were used to generate the simualated choice data, we can pass them to the \"infer\" method in order to obtain additional information during the ELBO maximization (useful for tracking the progress of VI and for other debugging purposes). "
   ]
  },
  {
   "cell_type": "code",
   "execution_count": 7,
   "metadata": {
    "scrolled": false
   },
   "outputs": [
    {
     "name": "stdout",
     "output_type": "stream",
     "text": [
      "[Epoch     0] ELBO: 7568; Loglik: -5277; Acc.: 0.204; Alpha RMSE: 0.948; Beta RMSE: 1.021\n",
      "[Epoch   100] ELBO: 7061; Loglik: -4578; Acc.: 0.249; Alpha RMSE: 0.576; Beta RMSE: 0.989\n",
      "[Epoch   200] ELBO: 4771; Loglik: -3839; Acc.: 0.344; Alpha RMSE: 0.337; Beta RMSE: 0.935\n",
      "[Epoch   300] ELBO: 5019; Loglik: -3809; Acc.: 0.370; Alpha RMSE: 0.172; Beta RMSE: 0.879\n",
      "[Epoch   400] ELBO: 4385; Loglik: -3525; Acc.: 0.418; Alpha RMSE: 0.138; Beta RMSE: 0.803\n",
      "[Epoch   500] ELBO: 4144; Loglik: -3506; Acc.: 0.433; Alpha RMSE: 0.098; Beta RMSE: 0.707\n",
      "[Epoch   600] ELBO: 4223; Loglik: -3455; Acc.: 0.432; Alpha RMSE: 0.087; Beta RMSE: 0.621\n",
      "[Epoch   700] ELBO: 4156; Loglik: -3334; Acc.: 0.444; Alpha RMSE: 0.102; Beta RMSE: 0.536\n",
      "[Epoch   800] ELBO: 4289; Loglik: -3352; Acc.: 0.448; Alpha RMSE: 0.112; Beta RMSE: 0.439\n",
      "[Epoch   900] ELBO: 4072; Loglik: -3278; Acc.: 0.477; Alpha RMSE: 0.106; Beta RMSE: 0.364\n",
      "[Epoch  1000] ELBO: 3990; Loglik: -3275; Acc.: 0.466; Alpha RMSE: 0.120; Beta RMSE: 0.286\n",
      "[Epoch  1100] ELBO: 3965; Loglik: -3255; Acc.: 0.465; Alpha RMSE: 0.109; Beta RMSE: 0.225\n",
      "[Epoch  1200] ELBO: 4028; Loglik: -3303; Acc.: 0.464; Alpha RMSE: 0.098; Beta RMSE: 0.173\n",
      "[Epoch  1300] ELBO: 3956; Loglik: -3233; Acc.: 0.474; Alpha RMSE: 0.093; Beta RMSE: 0.120\n",
      "[Epoch  1400] ELBO: 3980; Loglik: -3290; Acc.: 0.474; Alpha RMSE: 0.114; Beta RMSE: 0.084\n",
      "[Epoch  1500] ELBO: 3910; Loglik: -3232; Acc.: 0.480; Alpha RMSE: 0.111; Beta RMSE: 0.070\n",
      "[Epoch  1600] ELBO: 3859; Loglik: -3190; Acc.: 0.476; Alpha RMSE: 0.121; Beta RMSE: 0.082\n",
      "[Epoch  1700] ELBO: 3935; Loglik: -3227; Acc.: 0.468; Alpha RMSE: 0.110; Beta RMSE: 0.112\n",
      "[Epoch  1800] ELBO: 3886; Loglik: -3249; Acc.: 0.460; Alpha RMSE: 0.116; Beta RMSE: 0.132\n",
      "[Epoch  1900] ELBO: 3839; Loglik: -3186; Acc.: 0.480; Alpha RMSE: 0.106; Beta RMSE: 0.154\n",
      "[Epoch  2000] ELBO: 3839; Loglik: -3221; Acc.: 0.470; Alpha RMSE: 0.121; Beta RMSE: 0.164\n",
      "[Epoch  2100] ELBO: 3898; Loglik: -3240; Acc.: 0.466; Alpha RMSE: 0.105; Beta RMSE: 0.189\n",
      "[Epoch  2200] ELBO: 3837; Loglik: -3214; Acc.: 0.478; Alpha RMSE: 0.126; Beta RMSE: 0.201\n",
      "[Epoch  2300] ELBO: 3873; Loglik: -3243; Acc.: 0.472; Alpha RMSE: 0.117; Beta RMSE: 0.211\n",
      "[Epoch  2400] ELBO: 3842; Loglik: -3238; Acc.: 0.464; Alpha RMSE: 0.087; Beta RMSE: 0.214\n",
      "[Epoch  2500] ELBO: 3860; Loglik: -3256; Acc.: 0.473; Alpha RMSE: 0.108; Beta RMSE: 0.220\n",
      "[Epoch  2600] ELBO: 3839; Loglik: -3241; Acc.: 0.472; Alpha RMSE: 0.106; Beta RMSE: 0.206\n",
      "[Epoch  2700] ELBO: 3802; Loglik: -3218; Acc.: 0.475; Alpha RMSE: 0.113; Beta RMSE: 0.213\n",
      "[Epoch  2800] ELBO: 3819; Loglik: -3267; Acc.: 0.456; Alpha RMSE: 0.115; Beta RMSE: 0.203\n",
      "[Epoch  2900] ELBO: 3810; Loglik: -3261; Acc.: 0.462; Alpha RMSE: 0.132; Beta RMSE: 0.208\n",
      "[Epoch  3000] ELBO: 3797; Loglik: -3247; Acc.: 0.460; Alpha RMSE: 0.098; Beta RMSE: 0.202\n",
      "[Epoch  3100] ELBO: 3863; Loglik: -3275; Acc.: 0.473; Alpha RMSE: 0.099; Beta RMSE: 0.195\n",
      "[Epoch  3200] ELBO: 3875; Loglik: -3336; Acc.: 0.450; Alpha RMSE: 0.092; Beta RMSE: 0.195\n",
      "[Epoch  3300] ELBO: 3820; Loglik: -3291; Acc.: 0.462; Alpha RMSE: 0.099; Beta RMSE: 0.204\n",
      "[Epoch  3400] ELBO: 3775; Loglik: -3265; Acc.: 0.456; Alpha RMSE: 0.114; Beta RMSE: 0.183\n",
      "[Epoch  3500] ELBO: 3814; Loglik: -3294; Acc.: 0.456; Alpha RMSE: 0.077; Beta RMSE: 0.188\n",
      "[Epoch  3600] ELBO: 3796; Loglik: -3288; Acc.: 0.455; Alpha RMSE: 0.127; Beta RMSE: 0.184\n",
      "[Epoch  3700] ELBO: 3774; Loglik: -3281; Acc.: 0.461; Alpha RMSE: 0.094; Beta RMSE: 0.178\n",
      "[Epoch  3800] ELBO: 3775; Loglik: -3287; Acc.: 0.458; Alpha RMSE: 0.114; Beta RMSE: 0.172\n",
      "[Epoch  3900] ELBO: 3780; Loglik: -3299; Acc.: 0.455; Alpha RMSE: 0.098; Beta RMSE: 0.175\n",
      "[Epoch  4000] ELBO: 3803; Loglik: -3330; Acc.: 0.457; Alpha RMSE: 0.094; Beta RMSE: 0.173\n",
      "[Epoch  4100] ELBO: 3810; Loglik: -3336; Acc.: 0.454; Alpha RMSE: 0.111; Beta RMSE: 0.179\n",
      "[Epoch  4200] ELBO: 3828; Loglik: -3365; Acc.: 0.444; Alpha RMSE: 0.079; Beta RMSE: 0.161\n",
      "[Epoch  4300] ELBO: 3796; Loglik: -3330; Acc.: 0.461; Alpha RMSE: 0.103; Beta RMSE: 0.156\n",
      "[Epoch  4400] ELBO: 3779; Loglik: -3334; Acc.: 0.451; Alpha RMSE: 0.087; Beta RMSE: 0.161\n",
      "[Epoch  4500] ELBO: 3847; Loglik: -3390; Acc.: 0.433; Alpha RMSE: 0.088; Beta RMSE: 0.152\n",
      "[Epoch  4600] ELBO: 3782; Loglik: -3333; Acc.: 0.437; Alpha RMSE: 0.106; Beta RMSE: 0.153\n",
      "[Epoch  4700] ELBO: 3794; Loglik: -3340; Acc.: 0.453; Alpha RMSE: 0.108; Beta RMSE: 0.152\n",
      "[Epoch  4800] ELBO: 3832; Loglik: -3380; Acc.: 0.432; Alpha RMSE: 0.112; Beta RMSE: 0.152\n",
      "[Epoch  4900] ELBO: 3817; Loglik: -3384; Acc.: 0.428; Alpha RMSE: 0.086; Beta RMSE: 0.154\n",
      "Elapsed time: 62.10113286972046 \n",
      "\n",
      "True alpha: [-0.8  0.8  1.2]\n",
      "Est. alpha: [-0.8451671   0.63595444  1.2062775 ]\n",
      "\tBETA_XF1: -0.845\n",
      "\tBETA_XF2: 0.636\n",
      "\tBETA_XF3: 1.206\n",
      "\n",
      "True zeta: [-0.8  0.8  1.  -0.8  1.5]\n",
      "Est. zeta: [-0.95948696  0.99335897  1.1875029  -0.8028934   1.4382907 ]\n",
      "\tBETA_XR1: -0.959\n",
      "\tBETA_XR2: 0.993\n",
      "\tBETA_XR3: 1.188\n",
      "\tBETA_XR4: -0.803\n",
      "\tBETA_XR5: 1.438\n",
      "\n"
     ]
    },
    {
     "data": {
      "image/png": "[encoded data removed]",
      "text/plain": [
       "<Figure size 432x288 with 1 Axes>"
      ]
     },
     "metadata": {
      "filenames": {
       "image/png": "/home/rodr/code/pyDCML/jp-book/_build/jupyter_execute/extensions/nnet_utility_13_1.png"
      },
      "needs_background": "light"
     },
     "output_type": "display_data"
    },
    {
     "name": "stdout",
     "output_type": "stream",
     "text": [
      "CPU times: user 12min 35s, sys: 1.63 s, total: 12min 37s\n",
      "Wall time: 1min 5s\n"
     ]
    }
   ],
   "source": [
    "%%time\n",
    "\n",
    "from core.torch_mxl_nnet import TorchMXL_NNET\n",
    "\n",
    "# instantiate MXL model\n",
    "mxl = TorchMXL_NNET(dcm_dataset, batch_size=num_resp, use_inference_net=False, use_cuda=True)\n",
    "\n",
    "# run Bayesian inference (variational inference)\n",
    "results = mxl.infer(num_epochs=5000, true_alpha=true_alpha, true_beta=true_beta)"
   ]
  },
  {
   "cell_type": "markdown",
   "metadata": {},
   "source": [
    "The \"results\" dictionary containts a summary of the results of variational inference, including means of the posterior approximations for the different parameters in the model:"
   ]
  },
  {
   "cell_type": "code",
   "execution_count": 9,
   "metadata": {},
   "outputs": [
    {
     "data": {
      "text/plain": [
       "{'Estimation time': 62.10113286972046,\n",
       " 'Est. alpha': array([-0.8451671 ,  0.63595444,  1.2062775 ], dtype=float32),\n",
       " 'Est. zeta': array([-0.95948696,  0.99335897,  1.1875029 , -0.8028934 ,  1.4382907 ],\n",
       "       dtype=float32),\n",
       " 'Est. beta_n': array([[-0.49697894,  2.2429886 ,  2.1291854 ,  0.65689504,  2.1173    ],\n",
       "        [-0.07704893,  2.2993453 ,  1.9180169 , -0.26712865,  2.3546276 ],\n",
       "        [-0.5905319 ,  1.7121023 ,  1.1440365 , -0.00486669,  2.5219452 ],\n",
       "        ...,\n",
       "        [-0.90295714,  0.6258056 ,  1.360058  , -1.3241246 ,  1.7442591 ],\n",
       "        [-0.4988995 ,  1.2671847 ,  1.4033059 , -1.0043036 ,  1.5476954 ],\n",
       "        [-0.86154854,  1.2394235 ,  0.8732216 , -1.0529066 ,  1.8300217 ]],\n",
       "       dtype=float32),\n",
       " 'ELBO': 3805.753173828125,\n",
       " 'Loglikelihood': -3375.33447265625,\n",
       " 'Accuracy': 0.43799999356269836}"
      ]
     },
     "execution_count": 9,
     "metadata": {},
     "output_type": "execute_result"
    }
   ],
   "source": [
    "results"
   ]
  },
  {
   "cell_type": "markdown",
   "metadata": {},
   "source": [
    "This interface is currently being improved to include additional output information, but additional information can be obtained from the attributes of the \"mxl\" object for now. "
   ]
  },
  {
   "cell_type": "markdown",
   "metadata": {},
   "source": [
    "## Implementation details"
   ]
  },
  {
   "cell_type": "markdown",
   "metadata": {},
   "source": [
    "TODO"
   ]
  }
 ],
 "metadata": {
  "kernelspec": {
   "display_name": "Python 3 (ipykernel)",
   "language": "python",
   "name": "python3"
  },
  "language_info": {
   "codemirror_mode": {
    "name": "ipython",
    "version": 3
   },
   "file_extension": ".py",
   "mimetype": "text/x-python",
   "name": "python",
   "nbconvert_exporter": "python",
   "pygments_lexer": "ipython3",
   "version": "3.8.10"
  },
  "widgets": {
   "application/vnd.jupyter.widget-state+json": {
    "state": {},
    "version_major": 2,
    "version_minor": 0
   }
  }
 },
 "nbformat": 4,
 "nbformat_minor": 4
}