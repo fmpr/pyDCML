{
 "cells": [
  {
   "cell_type": "markdown",
   "metadata": {},
   "source": [
    "# Amortized variational inference\n",
    "\n",
    "This is a demo of stochastic variational inference (SVI) using simulated data for 500 individuals"
   ]
  },
  {
   "cell_type": "code",
   "execution_count": 1,
   "metadata": {},
   "outputs": [],
   "source": [
    "import os\n",
    "os.environ[\"CUDA_VISIBLE_DEVICES\"]=\"0\"\n",
    "\n",
    "import logging\n",
    "import time\n",
    "import matplotlib.pyplot as plt\n",
    "import numpy as np\n",
    "import pandas as pd\n",
    "\n",
    "# Fix random seed for reproducibility\n",
    "np.random.seed(42)"
   ]
  },
  {
   "cell_type": "markdown",
   "metadata": {},
   "source": [
    "## Generate simulated data\n",
    "\n",
    "We predefine the fixed effects parameters (true_alpha) and random effects parameters (true_beta), as well as the covariance matrix (true_Omega), and sample simulated choice data for 500 respondents (num_resp), each with 5 choice situations (num_menus). The number of choice alternatives is set to 5. "
   ]
  },
  {
   "cell_type": "code",
   "execution_count": 2,
   "metadata": {},
   "outputs": [
    {
     "name": "stdout",
     "output_type": "stream",
     "text": [
      "Generating fake data...\n",
      "Error: 45.16\n"
     ]
    },
    {
     "data": {
      "text/html": [
       "<div>\n",
       "<style scoped>\n",
       "    .dataframe tbody tr th:only-of-type {\n",
       "        vertical-align: middle;\n",
       "    }\n",
       "\n",
       "    .dataframe tbody tr th {\n",
       "        vertical-align: top;\n",
       "    }\n",
       "\n",
       "    .dataframe thead th {\n",
       "        text-align: right;\n",
       "    }\n",
       "</style>\n",
       "<table border=\"1\" class=\"dataframe\">\n",
       "  <thead>\n",
       "    <tr style=\"text-align: right;\">\n",
       "      <th></th>\n",
       "      <th>ALT1_XF1</th>\n",
       "      <th>ALT1_XF2</th>\n",
       "      <th>ALT1_XF3</th>\n",
       "      <th>ALT1_XR1</th>\n",
       "      <th>ALT1_XR2</th>\n",
       "      <th>ALT1_XR3</th>\n",
       "      <th>ALT1_XR4</th>\n",
       "      <th>ALT1_XR5</th>\n",
       "      <th>ALT2_XF1</th>\n",
       "      <th>ALT2_XF2</th>\n",
       "      <th>...</th>\n",
       "      <th>ALT5_XR1</th>\n",
       "      <th>ALT5_XR2</th>\n",
       "      <th>ALT5_XR3</th>\n",
       "      <th>ALT5_XR4</th>\n",
       "      <th>ALT5_XR5</th>\n",
       "      <th>choice</th>\n",
       "      <th>indID</th>\n",
       "      <th>menuID</th>\n",
       "      <th>obsID</th>\n",
       "      <th>ones</th>\n",
       "    </tr>\n",
       "  </thead>\n",
       "  <tbody>\n",
       "    <tr>\n",
       "      <th>0</th>\n",
       "      <td>0.374540</td>\n",
       "      <td>0.950714</td>\n",
       "      <td>0.731994</td>\n",
       "      <td>0.502929</td>\n",
       "      <td>0.474680</td>\n",
       "      <td>0.301972</td>\n",
       "      <td>0.539872</td>\n",
       "      <td>0.248391</td>\n",
       "      <td>0.598658</td>\n",
       "      <td>0.156019</td>\n",
       "      <td>...</td>\n",
       "      <td>0.237133</td>\n",
       "      <td>0.323644</td>\n",
       "      <td>0.292095</td>\n",
       "      <td>0.797652</td>\n",
       "      <td>0.171230</td>\n",
       "      <td>2</td>\n",
       "      <td>0</td>\n",
       "      <td>0</td>\n",
       "      <td>0</td>\n",
       "      <td>1</td>\n",
       "    </tr>\n",
       "    <tr>\n",
       "      <th>1</th>\n",
       "      <td>0.183405</td>\n",
       "      <td>0.304242</td>\n",
       "      <td>0.524756</td>\n",
       "      <td>0.608472</td>\n",
       "      <td>0.051355</td>\n",
       "      <td>0.549528</td>\n",
       "      <td>0.063914</td>\n",
       "      <td>0.175877</td>\n",
       "      <td>0.431945</td>\n",
       "      <td>0.291229</td>\n",
       "      <td>...</td>\n",
       "      <td>0.981368</td>\n",
       "      <td>0.299731</td>\n",
       "      <td>0.278902</td>\n",
       "      <td>0.973245</td>\n",
       "      <td>0.728234</td>\n",
       "      <td>2</td>\n",
       "      <td>0</td>\n",
       "      <td>1</td>\n",
       "      <td>1</td>\n",
       "      <td>1</td>\n",
       "    </tr>\n",
       "    <tr>\n",
       "      <th>2</th>\n",
       "      <td>0.607545</td>\n",
       "      <td>0.170524</td>\n",
       "      <td>0.065052</td>\n",
       "      <td>0.585298</td>\n",
       "      <td>0.699323</td>\n",
       "      <td>0.709927</td>\n",
       "      <td>0.763336</td>\n",
       "      <td>0.067189</td>\n",
       "      <td>0.948886</td>\n",
       "      <td>0.965632</td>\n",
       "      <td>...</td>\n",
       "      <td>0.839992</td>\n",
       "      <td>0.718722</td>\n",
       "      <td>0.500256</td>\n",
       "      <td>0.273207</td>\n",
       "      <td>0.877216</td>\n",
       "      <td>3</td>\n",
       "      <td>0</td>\n",
       "      <td>2</td>\n",
       "      <td>2</td>\n",
       "      <td>1</td>\n",
       "    </tr>\n",
       "    <tr>\n",
       "      <th>3</th>\n",
       "      <td>0.662522</td>\n",
       "      <td>0.311711</td>\n",
       "      <td>0.520068</td>\n",
       "      <td>0.776655</td>\n",
       "      <td>0.837907</td>\n",
       "      <td>0.140789</td>\n",
       "      <td>0.314813</td>\n",
       "      <td>0.424885</td>\n",
       "      <td>0.546710</td>\n",
       "      <td>0.184854</td>\n",
       "      <td>...</td>\n",
       "      <td>0.296403</td>\n",
       "      <td>0.507946</td>\n",
       "      <td>0.230841</td>\n",
       "      <td>0.514504</td>\n",
       "      <td>0.683332</td>\n",
       "      <td>3</td>\n",
       "      <td>0</td>\n",
       "      <td>3</td>\n",
       "      <td>3</td>\n",
       "      <td>1</td>\n",
       "    </tr>\n",
       "    <tr>\n",
       "      <th>4</th>\n",
       "      <td>0.388677</td>\n",
       "      <td>0.271349</td>\n",
       "      <td>0.828738</td>\n",
       "      <td>0.085521</td>\n",
       "      <td>0.870117</td>\n",
       "      <td>0.593746</td>\n",
       "      <td>0.989603</td>\n",
       "      <td>0.025592</td>\n",
       "      <td>0.356753</td>\n",
       "      <td>0.280935</td>\n",
       "      <td>...</td>\n",
       "      <td>0.584885</td>\n",
       "      <td>0.684462</td>\n",
       "      <td>0.256079</td>\n",
       "      <td>0.832849</td>\n",
       "      <td>0.449690</td>\n",
       "      <td>0</td>\n",
       "      <td>0</td>\n",
       "      <td>4</td>\n",
       "      <td>4</td>\n",
       "      <td>1</td>\n",
       "    </tr>\n",
       "  </tbody>\n",
       "</table>\n",
       "<p>5 rows × 45 columns</p>\n",
       "</div>"
      ],
      "text/plain": [
       "   ALT1_XF1  ALT1_XF2  ALT1_XF3  ALT1_XR1  ALT1_XR2  ALT1_XR3  ALT1_XR4  \\\n",
       "0  0.374540  0.950714  0.731994  0.502929  0.474680  0.301972  0.539872   \n",
       "1  0.183405  0.304242  0.524756  0.608472  0.051355  0.549528  0.063914   \n",
       "2  0.607545  0.170524  0.065052  0.585298  0.699323  0.709927  0.763336   \n",
       "3  0.662522  0.311711  0.520068  0.776655  0.837907  0.140789  0.314813   \n",
       "4  0.388677  0.271349  0.828738  0.085521  0.870117  0.593746  0.989603   \n",
       "\n",
       "   ALT1_XR5  ALT2_XF1  ALT2_XF2  ...  ALT5_XR1  ALT5_XR2  ALT5_XR3  ALT5_XR4  \\\n",
       "0  0.248391  0.598658  0.156019  ...  0.237133  0.323644  0.292095  0.797652   \n",
       "1  0.175877  0.431945  0.291229  ...  0.981368  0.299731  0.278902  0.973245   \n",
       "2  0.067189  0.948886  0.965632  ...  0.839992  0.718722  0.500256  0.273207   \n",
       "3  0.424885  0.546710  0.184854  ...  0.296403  0.507946  0.230841  0.514504   \n",
       "4  0.025592  0.356753  0.280935  ...  0.584885  0.684462  0.256079  0.832849   \n",
       "\n",
       "   ALT5_XR5  choice  indID  menuID  obsID  ones  \n",
       "0  0.171230       2      0       0      0     1  \n",
       "1  0.728234       2      0       1      1     1  \n",
       "2  0.877216       3      0       2      2     1  \n",
       "3  0.683332       3      0       3      3     1  \n",
       "4  0.449690       0      0       4      4     1  \n",
       "\n",
       "[5 rows x 45 columns]"
      ]
     },
     "execution_count": 2,
     "metadata": {},
     "output_type": "execute_result"
    }
   ],
   "source": [
    "from core.dcm_fakedata import generate_fake_data_wide\n",
    "\n",
    "num_resp = 500\n",
    "num_menus = 5\n",
    "num_alternatives = 5\n",
    "\n",
    "true_alpha = np.array([-0.8, 0.8, 1.2])\n",
    "true_beta = np.array([-0.8, 0.8, 1.0, -0.8, 1.5])\n",
    "# dynamic version of generating Omega\n",
    "corr = 0.8\n",
    "scale_factor = 1.0\n",
    "true_Omega = corr*np.ones((len(true_beta),len(true_beta))) # off-diagonal values of cov matrix\n",
    "true_Omega[np.arange(len(true_beta)), np.arange(len(true_beta))] = 1.0 # diagonal values of cov matrix\n",
    "true_Omega *= scale_factor\n",
    "\n",
    "df = generate_fake_data_wide(num_resp, num_menus, num_alternatives, true_alpha, true_beta, true_Omega)\n",
    "df.head()"
   ]
  },
  {
   "cell_type": "markdown",
   "metadata": {},
   "source": [
    "## Mixed Logit specification\n",
    "\n",
    "We now make use of the developed formula interface to specify the utilities of the mixed logit model. \n",
    "\n",
    "We begin by defining the fixed effects parameters, the random effects parameters, and the observed variables. This creates instances of Python objects that can be put together to define the utility functions for the different alternatives.\n",
    "\n",
    "Once the utilities are defined, we collect them in a Python dictionary mapping alternative names to their corresponding expressions."
   ]
  },
  {
   "cell_type": "code",
   "execution_count": 3,
   "metadata": {},
   "outputs": [],
   "source": [
    "from core.dcm_interface import FixedEffect, RandomEffect, ObservedVariable\n",
    "\n",
    "# define fixed effects parameters\n",
    "B_XF1 = FixedEffect('BETA_XF1')\n",
    "B_XF2 = FixedEffect('BETA_XF2')\n",
    "B_XF3 = FixedEffect('BETA_XF3')\n",
    "\n",
    "# define random effects parameters\n",
    "B_XR1 = RandomEffect('BETA_XR1')\n",
    "B_XR2 = RandomEffect('BETA_XR2')\n",
    "B_XR3 = RandomEffect('BETA_XR3')\n",
    "B_XR4 = RandomEffect('BETA_XR4')\n",
    "B_XR5 = RandomEffect('BETA_XR5')\n",
    "\n",
    "# define observed variables\n",
    "for attr in df.columns:\n",
    "    exec(\"%s = ObservedVariable('%s')\" % (attr,attr))\n",
    "\n",
    "# define utility functions\n",
    "V1 = B_XF1*ALT1_XF1 + B_XF2*ALT1_XF2 + B_XF3*ALT1_XF3 + B_XR1*ALT1_XR1 + B_XR2*ALT1_XR2 + B_XR3*ALT1_XR3 + B_XR4*ALT1_XR4 + B_XR5*ALT1_XR5\n",
    "V2 = B_XF1*ALT2_XF1 + B_XF2*ALT2_XF2 + B_XF3*ALT2_XF3 + B_XR1*ALT2_XR1 + B_XR2*ALT2_XR2 + B_XR3*ALT2_XR3 + B_XR4*ALT2_XR4 + B_XR5*ALT2_XR5\n",
    "V3 = B_XF1*ALT3_XF1 + B_XF2*ALT3_XF2 + B_XF3*ALT3_XF3 + B_XR1*ALT3_XR1 + B_XR2*ALT3_XR2 + B_XR3*ALT3_XR3 + B_XR4*ALT3_XR4 + B_XR5*ALT3_XR5\n",
    "V4 = B_XF1*ALT4_XF1 + B_XF2*ALT4_XF2 + B_XF3*ALT4_XF3 + B_XR1*ALT4_XR1 + B_XR2*ALT4_XR2 + B_XR3*ALT4_XR3 + B_XR4*ALT4_XR4 + B_XR5*ALT4_XR5\n",
    "V5 = B_XF1*ALT5_XF1 + B_XF2*ALT5_XF2 + B_XF3*ALT5_XF3 + B_XR1*ALT5_XR1 + B_XR2*ALT5_XR2 + B_XR3*ALT5_XR3 + B_XR4*ALT5_XR4 + B_XR5*ALT5_XR5\n",
    "\n",
    "# associate utility functions with the names of the alternatives\n",
    "utilities = {\"ALT1\": V1, \"ALT2\": V2, \"ALT3\": V3, \"ALT4\": V4, \"ALT5\": V5}"
   ]
  },
  {
   "cell_type": "markdown",
   "metadata": {},
   "source": [
    "We are now ready to create a Specification object containing the utilities that we have just defined. Note that we must also specify the type of choice model to be used - a mixed logit model (MXL) in this case.\n",
    "\n",
    "Note that we can inspect the specification by printing the dcm_spec object."
   ]
  },
  {
   "cell_type": "code",
   "execution_count": 4,
   "metadata": {},
   "outputs": [
    {
     "name": "stdout",
     "output_type": "stream",
     "text": [
      "----------------- MXL specification:\n",
      "Alternatives: ['ALT1', 'ALT2', 'ALT3', 'ALT4', 'ALT5']\n",
      "Utility functions:\n",
      "   V_ALT1 = BETA_XF1*ALT1_XF1 + BETA_XF2*ALT1_XF2 + BETA_XF3*ALT1_XF3 + BETA_XR1_n*ALT1_XR1 + BETA_XR2_n*ALT1_XR2 + BETA_XR3_n*ALT1_XR3 + BETA_XR4_n*ALT1_XR4 + BETA_XR5_n*ALT1_XR5\n",
      "   V_ALT2 = BETA_XF1*ALT2_XF1 + BETA_XF2*ALT2_XF2 + BETA_XF3*ALT2_XF3 + BETA_XR1_n*ALT2_XR1 + BETA_XR2_n*ALT2_XR2 + BETA_XR3_n*ALT2_XR3 + BETA_XR4_n*ALT2_XR4 + BETA_XR5_n*ALT2_XR5\n",
      "   V_ALT3 = BETA_XF1*ALT3_XF1 + BETA_XF2*ALT3_XF2 + BETA_XF3*ALT3_XF3 + BETA_XR1_n*ALT3_XR1 + BETA_XR2_n*ALT3_XR2 + BETA_XR3_n*ALT3_XR3 + BETA_XR4_n*ALT3_XR4 + BETA_XR5_n*ALT3_XR5\n",
      "   V_ALT4 = BETA_XF1*ALT4_XF1 + BETA_XF2*ALT4_XF2 + BETA_XF3*ALT4_XF3 + BETA_XR1_n*ALT4_XR1 + BETA_XR2_n*ALT4_XR2 + BETA_XR3_n*ALT4_XR3 + BETA_XR4_n*ALT4_XR4 + BETA_XR5_n*ALT4_XR5\n",
      "   V_ALT5 = BETA_XF1*ALT5_XF1 + BETA_XF2*ALT5_XF2 + BETA_XF3*ALT5_XF3 + BETA_XR1_n*ALT5_XR1 + BETA_XR2_n*ALT5_XR2 + BETA_XR3_n*ALT5_XR3 + BETA_XR4_n*ALT5_XR4 + BETA_XR5_n*ALT5_XR5\n",
      "\n",
      "Num. parameters to be estimated: 8\n",
      "Fixed effects params: ['BETA_XF1', 'BETA_XF2', 'BETA_XF3']\n",
      "Random effects params: ['BETA_XR1', 'BETA_XR2', 'BETA_XR3', 'BETA_XR4', 'BETA_XR5']\n"
     ]
    }
   ],
   "source": [
    "from core.dcm_interface import Specification\n",
    "\n",
    "# create MXL specification object based on the utilities previously defined\n",
    "dcm_spec = Specification('MXL', utilities)\n",
    "print(dcm_spec)"
   ]
  },
  {
   "cell_type": "markdown",
   "metadata": {},
   "source": [
    "Once the Specification is defined, we need to define the DCM Dataset object that goes along with it. For this, we instantiate the Dataset class with the Pandas dataframe containing the data in the so-called \"wide format\", the name of column in the dataframe containing the observed choices and the dcm_spec that we have previously created.\n",
    "\n",
    "Note that since this is panel data, we must also specify the name of the column in the dataframe that contains the ID of the respondent (this should be a integer ranging from 0 the num_resp-1)."
   ]
  },
  {
   "cell_type": "code",
   "execution_count": 5,
   "metadata": {
    "scrolled": false
   },
   "outputs": [
    {
     "name": "stdout",
     "output_type": "stream",
     "text": [
      "Preparing dataset...\n",
      "\tModel type: MXL\n",
      "\tNum. observations: 2500\n",
      "\tNum. alternatives: 5\n",
      "\tNum. respondents: 500\n",
      "\tNum. menus: 5\n",
      "\tObservations IDs: [   0    1    2 ... 2497 2498 2499]\n",
      "\tAlternative IDs: None\n",
      "\tRespondent IDs: [  0   0   0 ... 499 499 499]\n",
      "\tAvailability columns: None\n",
      "\tAttribute names: ['ALT1_XF1', 'ALT1_XF2', 'ALT1_XF3', 'ALT1_XR1', 'ALT1_XR2', 'ALT1_XR3', 'ALT1_XR4', 'ALT1_XR5', 'ALT2_XF1', 'ALT2_XF2', 'ALT2_XF3', 'ALT2_XR1', 'ALT2_XR2', 'ALT2_XR3', 'ALT2_XR4', 'ALT2_XR5', 'ALT3_XF1', 'ALT3_XF2', 'ALT3_XF3', 'ALT3_XR1', 'ALT3_XR2', 'ALT3_XR3', 'ALT3_XR4', 'ALT3_XR5', 'ALT4_XF1', 'ALT4_XF2', 'ALT4_XF3', 'ALT4_XR1', 'ALT4_XR2', 'ALT4_XR3', 'ALT4_XR4', 'ALT4_XR5', 'ALT5_XF1', 'ALT5_XF2', 'ALT5_XF3', 'ALT5_XR1', 'ALT5_XR2', 'ALT5_XR3', 'ALT5_XR4', 'ALT5_XR5']\n",
      "\tFixed effects attribute names: ['ALT1_XF1', 'ALT1_XF2', 'ALT1_XF3', 'ALT2_XF1', 'ALT2_XF2', 'ALT2_XF3', 'ALT3_XF1', 'ALT3_XF2', 'ALT3_XF3', 'ALT4_XF1', 'ALT4_XF2', 'ALT4_XF3', 'ALT5_XF1', 'ALT5_XF2', 'ALT5_XF3']\n",
      "\tFixed effects parameter names: ['BETA_XF1', 'BETA_XF2', 'BETA_XF3', 'BETA_XF1', 'BETA_XF2', 'BETA_XF3', 'BETA_XF1', 'BETA_XF2', 'BETA_XF3', 'BETA_XF1', 'BETA_XF2', 'BETA_XF3', 'BETA_XF1', 'BETA_XF2', 'BETA_XF3']\n",
      "\tRandom effects attribute names: ['ALT1_XR1', 'ALT1_XR2', 'ALT1_XR3', 'ALT1_XR4', 'ALT1_XR5', 'ALT2_XR1', 'ALT2_XR2', 'ALT2_XR3', 'ALT2_XR4', 'ALT2_XR5', 'ALT3_XR1', 'ALT3_XR2', 'ALT3_XR3', 'ALT3_XR4', 'ALT3_XR5', 'ALT4_XR1', 'ALT4_XR2', 'ALT4_XR3', 'ALT4_XR4', 'ALT4_XR5', 'ALT5_XR1', 'ALT5_XR2', 'ALT5_XR3', 'ALT5_XR4', 'ALT5_XR5']\n",
      "\tRandom effects parameter names: ['BETA_XR1', 'BETA_XR2', 'BETA_XR3', 'BETA_XR4', 'BETA_XR5', 'BETA_XR1', 'BETA_XR2', 'BETA_XR3', 'BETA_XR4', 'BETA_XR5', 'BETA_XR1', 'BETA_XR2', 'BETA_XR3', 'BETA_XR4', 'BETA_XR5', 'BETA_XR1', 'BETA_XR2', 'BETA_XR3', 'BETA_XR4', 'BETA_XR5', 'BETA_XR1', 'BETA_XR2', 'BETA_XR3', 'BETA_XR4', 'BETA_XR5']\n",
      "\tAlternative attributes ndarray.shape: (500, 5, 40)\n",
      "\tChoices ndarray.shape: (500, 5)\n",
      "\tAlternatives availability ndarray.shape: (500, 5, 5)\n",
      "\tData mask ndarray.shape: (500, 5)\n",
      "\tContext data ndarray.shape: (500, 0)\n",
      "Done!\n"
     ]
    }
   ],
   "source": [
    "from core.dcm_interface import Dataset\n",
    "\n",
    "# create DCM dataset object\n",
    "dcm_dataset = Dataset(df, 'choice', dcm_spec, resp_id_col='indID')"
   ]
  },
  {
   "cell_type": "markdown",
   "metadata": {},
   "source": [
    "As with the specification, we can inspect the DCM dataset by printing the dcm_dataset object:"
   ]
  },
  {
   "cell_type": "code",
   "execution_count": 6,
   "metadata": {
    "scrolled": false
   },
   "outputs": [
    {
     "name": "stdout",
     "output_type": "stream",
     "text": [
      "----------------- DCM dataset:\n",
      "Model type: MXL\n",
      "Num. observations: 2500\n",
      "Num. alternatives: 5\n",
      "Num. respondents: 500\n",
      "Num. menus: 5\n",
      "Num. fixed effects: 15\n",
      "Num. random effects: 25\n",
      "Attribute names: ['ALT1_XF1', 'ALT1_XF2', 'ALT1_XF3', 'ALT1_XR1', 'ALT1_XR2', 'ALT1_XR3', 'ALT1_XR4', 'ALT1_XR5', 'ALT2_XF1', 'ALT2_XF2', 'ALT2_XF3', 'ALT2_XR1', 'ALT2_XR2', 'ALT2_XR3', 'ALT2_XR4', 'ALT2_XR5', 'ALT3_XF1', 'ALT3_XF2', 'ALT3_XF3', 'ALT3_XR1', 'ALT3_XR2', 'ALT3_XR3', 'ALT3_XR4', 'ALT3_XR5', 'ALT4_XF1', 'ALT4_XF2', 'ALT4_XF3', 'ALT4_XR1', 'ALT4_XR2', 'ALT4_XR3', 'ALT4_XR4', 'ALT4_XR5', 'ALT5_XF1', 'ALT5_XF2', 'ALT5_XF3', 'ALT5_XR1', 'ALT5_XR2', 'ALT5_XR3', 'ALT5_XR4', 'ALT5_XR5']\n"
     ]
    }
   ],
   "source": [
    "print(dcm_dataset)"
   ]
  },
  {
   "cell_type": "markdown",
   "metadata": {},
   "source": [
    "## Bayesian Mixed Logit Model in PyTorch\n",
    "\n",
    "It is now time to perform approximate Bayesian inference on the mixed logit model that we have specified. The generative process of the MXL model that we will be using is the following:\n",
    "\n",
    "1. Draw fixed taste parameters $\\boldsymbol\\alpha \\sim \\mathcal{N}(\\boldsymbol\\lambda_0, \\boldsymbol\\Xi_0)$\n",
    "2. Draw mean vector $\\boldsymbol\\zeta \\sim \\mathcal{N}(\\boldsymbol\\mu_0, \\boldsymbol\\Sigma_0)$\n",
    "3. Draw scales vector $\\boldsymbol\\theta \\sim \\mbox{half-Cauchy}(\\boldsymbol\\sigma_0)$\n",
    "4. Draw correlation matrix $\\boldsymbol\\Psi \\sim \\mbox{LKJ}(\\nu)$\n",
    "5. For each decision-maker $n \\in \\{1,\\dots,N\\}$\n",
    "    1. Draw random taste parameters $\\boldsymbol\\beta_n \\sim \\mathcal{N}(\\boldsymbol\\zeta,\\boldsymbol\\Omega)$\n",
    "    2. For each choice occasion $t \\in \\{1,\\dots,T_n\\}$\n",
    "        1. Draw observed choice $y_{nt} \\sim \\mbox{MNL}(\\boldsymbol\\alpha, \\boldsymbol\\beta_n, \\textbf{X}_{nt})$\n",
    "        \n",
    "where $\\boldsymbol\\Omega = \\mbox{diag}(\\boldsymbol\\theta) \\times \\boldsymbol\\Psi \\times  \\mbox{diag}(\\boldsymbol\\theta)$.\n",
    "\n",
    "We can instantiate this model from the TorchMXL using the following code. We can the run variational inference to approximate the posterior distribution of the latent variables in the model. Note that since in this case we know the true parameters that were used to generate the simualated choice data, we can pass them to the \"infer\" method in order to obtain additional information during the ELBO maximization (useful for tracking the progress of VI and for other debugging purposes). "
   ]
  },
  {
   "cell_type": "code",
   "execution_count": 7,
   "metadata": {},
   "outputs": [
    {
     "name": "stdout",
     "output_type": "stream",
     "text": [
      "[Epoch     0] ELBO: 6528; Loglik: -4880; Acc.: 0.187; Alpha RMSE: 0.942; Beta RMSE: 1.016\n",
      "[Epoch   100] ELBO: 5632; Loglik: -4443; Acc.: 0.261; Alpha RMSE: 0.457; Beta RMSE: 0.993\n",
      "[Epoch   200] ELBO: 5959; Loglik: -3977; Acc.: 0.337; Alpha RMSE: 0.257; Beta RMSE: 0.969\n",
      "[Epoch   300] ELBO: 4954; Loglik: -3796; Acc.: 0.356; Alpha RMSE: 0.197; Beta RMSE: 0.895\n",
      "[Epoch   400] ELBO: 4684; Loglik: -3659; Acc.: 0.386; Alpha RMSE: 0.164; Beta RMSE: 0.831\n",
      "[Epoch   500] ELBO: 4335; Loglik: -3524; Acc.: 0.405; Alpha RMSE: 0.119; Beta RMSE: 0.782\n",
      "[Epoch   600] ELBO: 4323; Loglik: -3417; Acc.: 0.429; Alpha RMSE: 0.109; Beta RMSE: 0.751\n",
      "[Epoch   700] ELBO: 4308; Loglik: -3315; Acc.: 0.449; Alpha RMSE: 0.119; Beta RMSE: 0.688\n",
      "[Epoch   800] ELBO: 4281; Loglik: -3304; Acc.: 0.447; Alpha RMSE: 0.136; Beta RMSE: 0.627\n",
      "[Epoch   900] ELBO: 4055; Loglik: -3266; Acc.: 0.473; Alpha RMSE: 0.134; Beta RMSE: 0.569\n",
      "[Epoch  1000] ELBO: 4125; Loglik: -3246; Acc.: 0.476; Alpha RMSE: 0.115; Beta RMSE: 0.511\n",
      "[Epoch  1100] ELBO: 3907; Loglik: -3186; Acc.: 0.482; Alpha RMSE: 0.135; Beta RMSE: 0.458\n",
      "[Epoch  1200] ELBO: 3965; Loglik: -3156; Acc.: 0.495; Alpha RMSE: 0.137; Beta RMSE: 0.407\n",
      "[Epoch  1300] ELBO: 4017; Loglik: -3197; Acc.: 0.475; Alpha RMSE: 0.136; Beta RMSE: 0.367\n",
      "[Epoch  1400] ELBO: 3968; Loglik: -3145; Acc.: 0.482; Alpha RMSE: 0.135; Beta RMSE: 0.317\n",
      "[Epoch  1500] ELBO: 3883; Loglik: -3134; Acc.: 0.480; Alpha RMSE: 0.132; Beta RMSE: 0.271\n",
      "[Epoch  1600] ELBO: 3931; Loglik: -3152; Acc.: 0.488; Alpha RMSE: 0.140; Beta RMSE: 0.228\n",
      "[Epoch  1700] ELBO: 3814; Loglik: -3092; Acc.: 0.486; Alpha RMSE: 0.122; Beta RMSE: 0.194\n",
      "[Epoch  1800] ELBO: 3853; Loglik: -3123; Acc.: 0.503; Alpha RMSE: 0.125; Beta RMSE: 0.157\n",
      "[Epoch  1900] ELBO: 3759; Loglik: -3060; Acc.: 0.495; Alpha RMSE: 0.144; Beta RMSE: 0.125\n",
      "[Epoch  2000] ELBO: 3771; Loglik: -3072; Acc.: 0.502; Alpha RMSE: 0.122; Beta RMSE: 0.099\n",
      "[Epoch  2100] ELBO: 3804; Loglik: -3106; Acc.: 0.496; Alpha RMSE: 0.159; Beta RMSE: 0.091\n",
      "[Epoch  2200] ELBO: 3835; Loglik: -3049; Acc.: 0.503; Alpha RMSE: 0.156; Beta RMSE: 0.085\n",
      "[Epoch  2300] ELBO: 3796; Loglik: -3072; Acc.: 0.491; Alpha RMSE: 0.130; Beta RMSE: 0.084\n",
      "[Epoch  2400] ELBO: 3777; Loglik: -3087; Acc.: 0.488; Alpha RMSE: 0.135; Beta RMSE: 0.092\n",
      "[Epoch  2500] ELBO: 3794; Loglik: -3119; Acc.: 0.488; Alpha RMSE: 0.150; Beta RMSE: 0.111\n",
      "[Epoch  2600] ELBO: 3711; Loglik: -3077; Acc.: 0.493; Alpha RMSE: 0.139; Beta RMSE: 0.110\n",
      "[Epoch  2700] ELBO: 3894; Loglik: -3124; Acc.: 0.492; Alpha RMSE: 0.137; Beta RMSE: 0.122\n",
      "[Epoch  2800] ELBO: 3762; Loglik: -3108; Acc.: 0.480; Alpha RMSE: 0.130; Beta RMSE: 0.147\n",
      "[Epoch  2900] ELBO: 3807; Loglik: -3112; Acc.: 0.483; Alpha RMSE: 0.122; Beta RMSE: 0.146\n",
      "[Epoch  3000] ELBO: 3761; Loglik: -3116; Acc.: 0.494; Alpha RMSE: 0.137; Beta RMSE: 0.142\n",
      "[Epoch  3100] ELBO: 3678; Loglik: -3084; Acc.: 0.490; Alpha RMSE: 0.140; Beta RMSE: 0.150\n",
      "[Epoch  3200] ELBO: 3682; Loglik: -3093; Acc.: 0.491; Alpha RMSE: 0.124; Beta RMSE: 0.156\n",
      "[Epoch  3300] ELBO: 3743; Loglik: -3133; Acc.: 0.485; Alpha RMSE: 0.138; Beta RMSE: 0.173\n",
      "[Epoch  3400] ELBO: 3676; Loglik: -3084; Acc.: 0.492; Alpha RMSE: 0.127; Beta RMSE: 0.160\n",
      "[Epoch  3500] ELBO: 3712; Loglik: -3110; Acc.: 0.484; Alpha RMSE: 0.120; Beta RMSE: 0.172\n",
      "[Epoch  3600] ELBO: 3701; Loglik: -3140; Acc.: 0.479; Alpha RMSE: 0.137; Beta RMSE: 0.175\n",
      "[Epoch  3700] ELBO: 3706; Loglik: -3138; Acc.: 0.479; Alpha RMSE: 0.129; Beta RMSE: 0.177\n",
      "[Epoch  3800] ELBO: 3687; Loglik: -3133; Acc.: 0.479; Alpha RMSE: 0.127; Beta RMSE: 0.174\n",
      "[Epoch  3900] ELBO: 3674; Loglik: -3123; Acc.: 0.484; Alpha RMSE: 0.136; Beta RMSE: 0.182\n",
      "[Epoch  4000] ELBO: 3667; Loglik: -3128; Acc.: 0.486; Alpha RMSE: 0.129; Beta RMSE: 0.166\n",
      "[Epoch  4100] ELBO: 3656; Loglik: -3132; Acc.: 0.477; Alpha RMSE: 0.141; Beta RMSE: 0.163\n",
      "[Epoch  4200] ELBO: 3672; Loglik: -3163; Acc.: 0.475; Alpha RMSE: 0.120; Beta RMSE: 0.154\n",
      "[Epoch  4300] ELBO: 3686; Loglik: -3155; Acc.: 0.478; Alpha RMSE: 0.135; Beta RMSE: 0.153\n",
      "[Epoch  4400] ELBO: 3674; Loglik: -3153; Acc.: 0.476; Alpha RMSE: 0.138; Beta RMSE: 0.157\n",
      "[Epoch  4500] ELBO: 3623; Loglik: -3137; Acc.: 0.478; Alpha RMSE: 0.114; Beta RMSE: 0.150\n",
      "[Epoch  4600] ELBO: 3643; Loglik: -3160; Acc.: 0.475; Alpha RMSE: 0.133; Beta RMSE: 0.153\n",
      "[Epoch  4700] ELBO: 3616; Loglik: -3132; Acc.: 0.479; Alpha RMSE: 0.149; Beta RMSE: 0.138\n",
      "[Epoch  4800] ELBO: 3683; Loglik: -3175; Acc.: 0.476; Alpha RMSE: 0.144; Beta RMSE: 0.152\n",
      "[Epoch  4900] ELBO: 3608; Loglik: -3142; Acc.: 0.474; Alpha RMSE: 0.149; Beta RMSE: 0.138\n",
      "Elapsed time: 52.703238010406494 \n",
      "\n",
      "True alpha: [-0.8  0.8  1.2]\n",
      "Est. alpha: [-0.8347422   0.61030704  1.270969  ]\n",
      "\tBETA_XF1: -0.835\n",
      "\tBETA_XF2: 0.610\n",
      "\tBETA_XF3: 1.271\n",
      "\n",
      "True zeta: [-0.8  0.8  1.  -0.8  1.5]\n",
      "Est. zeta: [-0.9354473  1.0027909  1.2199745 -0.7571388  1.4538687]\n",
      "\tBETA_XR1: -0.935\n",
      "\tBETA_XR2: 1.003\n",
      "\tBETA_XR3: 1.220\n",
      "\tBETA_XR4: -0.757\n",
      "\tBETA_XR5: 1.454\n",
      "\n"
     ]
    },
    {
     "data": {
      "image/png": "[encoded data removed]",
      "text/plain": [
       "<Figure size 432x288 with 1 Axes>"
      ]
     },
     "metadata": {
      "filenames": {
       "image/png": "/home/rodr/code/amortized-mxl-dev/release/docs/_build/jupyter_execute/demos/demo-avi-sim10000_13_1.png"
      },
      "needs_background": "light"
     },
     "output_type": "display_data"
    },
    {
     "name": "stdout",
     "output_type": "stream",
     "text": [
      "CPU times: user 11min 14s, sys: 1.4 s, total: 11min 15s\n",
      "Wall time: 56.2 s\n"
     ]
    }
   ],
   "source": [
    "%%time\n",
    "\n",
    "from core.torch_mxl import TorchMXL\n",
    "\n",
    "# instantiate MXL model\n",
    "mxl = TorchMXL(dcm_dataset, batch_size=num_resp, use_inference_net=False, use_cuda=True)\n",
    "\n",
    "# run Bayesian inference (variational inference)\n",
    "results = mxl.infer(num_epochs=5000, true_alpha=true_alpha, true_beta=true_beta)"
   ]
  },
  {
   "cell_type": "markdown",
   "metadata": {},
   "source": [
    "The \"results\" dictionary containts a summary of the results of variational inference, including means of the posterior approximations for the different parameters in the model:"
   ]
  },
  {
   "cell_type": "code",
   "execution_count": 8,
   "metadata": {},
   "outputs": [
    {
     "data": {
      "text/plain": [
       "{'Estimation time': 52.703238010406494,\n",
       " 'Est. alpha': array([-0.8347422 ,  0.61030704,  1.270969  ], dtype=float32),\n",
       " 'Est. zeta': array([-0.9354473,  1.0027909,  1.2199745, -0.7571388,  1.4538687],\n",
       "       dtype=float32),\n",
       " 'Est. beta_n': array([[-0.5382021 ,  2.4930227 ,  2.0813956 ,  0.9331551 ,  2.3087652 ],\n",
       "        [-0.2040499 ,  2.4140718 ,  2.0090287 , -0.49542046,  2.2175345 ],\n",
       "        [-0.7154767 ,  1.968167  ,  1.1335852 ,  0.2626567 ,  2.592114  ],\n",
       "        ...,\n",
       "        [-0.96057045,  0.46071678,  1.276249  , -1.4477091 ,  1.7805352 ],\n",
       "        [-0.4873904 ,  1.2345245 ,  1.3991429 , -1.2709299 ,  1.5712204 ],\n",
       "        [-0.95057917,  1.0368965 ,  0.98003244, -1.0976784 ,  1.9454892 ]],\n",
       "       dtype=float32),\n",
       " 'ELBO': 3654.902099609375,\n",
       " 'Loglikelihood': -3179.841796875,\n",
       " 'Accuracy': 0.4643999934196472}"
      ]
     },
     "execution_count": 8,
     "metadata": {},
     "output_type": "execute_result"
    }
   ],
   "source": [
    "results"
   ]
  },
  {
   "cell_type": "markdown",
   "metadata": {},
   "source": [
    "This interface is currently being improved to include additional output information, but additional information can be obtained from the attributes of the \"mxl\" object for now. "
   ]
  }
 ],
 "metadata": {
  "kernelspec": {
   "display_name": "Python 3 (ipykernel)",
   "language": "python",
   "name": "python3"
  },
  "language_info": {
   "codemirror_mode": {
    "name": "ipython",
    "version": 3
   },
   "file_extension": ".py",
   "mimetype": "text/x-python",
   "name": "python",
   "nbconvert_exporter": "python",
   "pygments_lexer": "ipython3",
   "version": "3.8.10"
  },
  "widgets": {
   "application/vnd.jupyter.widget-state+json": {
    "state": {},
    "version_major": 2,
    "version_minor": 0
   }
  }
 },
 "nbformat": 4,
 "nbformat_minor": 4
}