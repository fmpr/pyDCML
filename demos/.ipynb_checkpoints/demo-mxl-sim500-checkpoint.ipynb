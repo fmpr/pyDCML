{
 "cells": [
  {
   "cell_type": "markdown",
   "metadata": {},
   "source": [
    "# Mixed logit with simulated data\n",
    "\n",
    "This is a demo of stochastic variational inference (SVI) using simulated data for 500 individuals"
   ]
  },
  {
   "cell_type": "code",
   "execution_count": 1,
   "metadata": {},
   "outputs": [],
   "source": [
    "import os\n",
    "os.environ[\"CUDA_VISIBLE_DEVICES\"]=\"0\"\n",
    "\n",
    "import sys\n",
    "sys.path.insert(0, \"/home/rodr/code/amortized-mxl-dev/release\") \n",
    "\n",
    "import logging\n",
    "import time\n",
    "import matplotlib.pyplot as plt\n",
    "import numpy as np\n",
    "import pandas as pd\n",
    "\n",
    "# Fix random seed for reproducibility\n",
    "np.random.seed(42)"
   ]
  },
  {
   "cell_type": "markdown",
   "metadata": {},
   "source": [
    "## Generate simulated data\n",
    "\n",
    "We predefine the fixed effects parameters (true_alpha) and random effects parameters (true_beta), as well as the covariance matrix (true_Omega), and sample simulated choice data for 500 respondents (num_resp), each with 5 choice situations (num_menus). The number of choice alternatives is set to 5. "
   ]
  },
  {
   "cell_type": "code",
   "execution_count": 3,
   "metadata": {},
   "outputs": [
    {
     "name": "stdout",
     "output_type": "stream",
     "text": [
      "Generating fake data...\n",
      "Error: 45.16\n"
     ]
    },
    {
     "data": {
      "text/html": [
       "<div>\n",
       "<style scoped>\n",
       "    .dataframe tbody tr th:only-of-type {\n",
       "        vertical-align: middle;\n",
       "    }\n",
       "\n",
       "    .dataframe tbody tr th {\n",
       "        vertical-align: top;\n",
       "    }\n",
       "\n",
       "    .dataframe thead th {\n",
       "        text-align: right;\n",
       "    }\n",
       "</style>\n",
       "<table border=\"1\" class=\"dataframe\">\n",
       "  <thead>\n",
       "    <tr style=\"text-align: right;\">\n",
       "      <th></th>\n",
       "      <th>ALT1_XF1</th>\n",
       "      <th>ALT1_XF2</th>\n",
       "      <th>ALT1_XF3</th>\n",
       "      <th>ALT1_XR1</th>\n",
       "      <th>ALT1_XR2</th>\n",
       "      <th>ALT1_XR3</th>\n",
       "      <th>ALT1_XR4</th>\n",
       "      <th>ALT1_XR5</th>\n",
       "      <th>ALT2_XF1</th>\n",
       "      <th>ALT2_XF2</th>\n",
       "      <th>...</th>\n",
       "      <th>ALT5_XR1</th>\n",
       "      <th>ALT5_XR2</th>\n",
       "      <th>ALT5_XR3</th>\n",
       "      <th>ALT5_XR4</th>\n",
       "      <th>ALT5_XR5</th>\n",
       "      <th>choice</th>\n",
       "      <th>indID</th>\n",
       "      <th>menuID</th>\n",
       "      <th>obsID</th>\n",
       "      <th>ones</th>\n",
       "    </tr>\n",
       "  </thead>\n",
       "  <tbody>\n",
       "    <tr>\n",
       "      <th>0</th>\n",
       "      <td>0.374540</td>\n",
       "      <td>0.950714</td>\n",
       "      <td>0.731994</td>\n",
       "      <td>0.502929</td>\n",
       "      <td>0.474680</td>\n",
       "      <td>0.301972</td>\n",
       "      <td>0.539872</td>\n",
       "      <td>0.248391</td>\n",
       "      <td>0.598658</td>\n",
       "      <td>0.156019</td>\n",
       "      <td>...</td>\n",
       "      <td>0.237133</td>\n",
       "      <td>0.323644</td>\n",
       "      <td>0.292095</td>\n",
       "      <td>0.797652</td>\n",
       "      <td>0.171230</td>\n",
       "      <td>2</td>\n",
       "      <td>0</td>\n",
       "      <td>0</td>\n",
       "      <td>0</td>\n",
       "      <td>1</td>\n",
       "    </tr>\n",
       "    <tr>\n",
       "      <th>1</th>\n",
       "      <td>0.183405</td>\n",
       "      <td>0.304242</td>\n",
       "      <td>0.524756</td>\n",
       "      <td>0.608472</td>\n",
       "      <td>0.051355</td>\n",
       "      <td>0.549528</td>\n",
       "      <td>0.063914</td>\n",
       "      <td>0.175877</td>\n",
       "      <td>0.431945</td>\n",
       "      <td>0.291229</td>\n",
       "      <td>...</td>\n",
       "      <td>0.981368</td>\n",
       "      <td>0.299731</td>\n",
       "      <td>0.278902</td>\n",
       "      <td>0.973245</td>\n",
       "      <td>0.728234</td>\n",
       "      <td>2</td>\n",
       "      <td>0</td>\n",
       "      <td>1</td>\n",
       "      <td>1</td>\n",
       "      <td>1</td>\n",
       "    </tr>\n",
       "    <tr>\n",
       "      <th>2</th>\n",
       "      <td>0.607545</td>\n",
       "      <td>0.170524</td>\n",
       "      <td>0.065052</td>\n",
       "      <td>0.585298</td>\n",
       "      <td>0.699323</td>\n",
       "      <td>0.709927</td>\n",
       "      <td>0.763336</td>\n",
       "      <td>0.067189</td>\n",
       "      <td>0.948886</td>\n",
       "      <td>0.965632</td>\n",
       "      <td>...</td>\n",
       "      <td>0.839992</td>\n",
       "      <td>0.718722</td>\n",
       "      <td>0.500256</td>\n",
       "      <td>0.273207</td>\n",
       "      <td>0.877216</td>\n",
       "      <td>3</td>\n",
       "      <td>0</td>\n",
       "      <td>2</td>\n",
       "      <td>2</td>\n",
       "      <td>1</td>\n",
       "    </tr>\n",
       "    <tr>\n",
       "      <th>3</th>\n",
       "      <td>0.662522</td>\n",
       "      <td>0.311711</td>\n",
       "      <td>0.520068</td>\n",
       "      <td>0.776655</td>\n",
       "      <td>0.837907</td>\n",
       "      <td>0.140789</td>\n",
       "      <td>0.314813</td>\n",
       "      <td>0.424885</td>\n",
       "      <td>0.546710</td>\n",
       "      <td>0.184854</td>\n",
       "      <td>...</td>\n",
       "      <td>0.296403</td>\n",
       "      <td>0.507946</td>\n",
       "      <td>0.230841</td>\n",
       "      <td>0.514504</td>\n",
       "      <td>0.683332</td>\n",
       "      <td>3</td>\n",
       "      <td>0</td>\n",
       "      <td>3</td>\n",
       "      <td>3</td>\n",
       "      <td>1</td>\n",
       "    </tr>\n",
       "    <tr>\n",
       "      <th>4</th>\n",
       "      <td>0.388677</td>\n",
       "      <td>0.271349</td>\n",
       "      <td>0.828738</td>\n",
       "      <td>0.085521</td>\n",
       "      <td>0.870117</td>\n",
       "      <td>0.593746</td>\n",
       "      <td>0.989603</td>\n",
       "      <td>0.025592</td>\n",
       "      <td>0.356753</td>\n",
       "      <td>0.280935</td>\n",
       "      <td>...</td>\n",
       "      <td>0.584885</td>\n",
       "      <td>0.684462</td>\n",
       "      <td>0.256079</td>\n",
       "      <td>0.832849</td>\n",
       "      <td>0.449690</td>\n",
       "      <td>0</td>\n",
       "      <td>0</td>\n",
       "      <td>4</td>\n",
       "      <td>4</td>\n",
       "      <td>1</td>\n",
       "    </tr>\n",
       "  </tbody>\n",
       "</table>\n",
       "<p>5 rows × 45 columns</p>\n",
       "</div>"
      ],
      "text/plain": [
       "   ALT1_XF1  ALT1_XF2  ALT1_XF3  ALT1_XR1  ALT1_XR2  ALT1_XR3  ALT1_XR4  \\\n",
       "0  0.374540  0.950714  0.731994  0.502929  0.474680  0.301972  0.539872   \n",
       "1  0.183405  0.304242  0.524756  0.608472  0.051355  0.549528  0.063914   \n",
       "2  0.607545  0.170524  0.065052  0.585298  0.699323  0.709927  0.763336   \n",
       "3  0.662522  0.311711  0.520068  0.776655  0.837907  0.140789  0.314813   \n",
       "4  0.388677  0.271349  0.828738  0.085521  0.870117  0.593746  0.989603   \n",
       "\n",
       "   ALT1_XR5  ALT2_XF1  ALT2_XF2  ...  ALT5_XR1  ALT5_XR2  ALT5_XR3  ALT5_XR4  \\\n",
       "0  0.248391  0.598658  0.156019  ...  0.237133  0.323644  0.292095  0.797652   \n",
       "1  0.175877  0.431945  0.291229  ...  0.981368  0.299731  0.278902  0.973245   \n",
       "2  0.067189  0.948886  0.965632  ...  0.839992  0.718722  0.500256  0.273207   \n",
       "3  0.424885  0.546710  0.184854  ...  0.296403  0.507946  0.230841  0.514504   \n",
       "4  0.025592  0.356753  0.280935  ...  0.584885  0.684462  0.256079  0.832849   \n",
       "\n",
       "   ALT5_XR5  choice  indID  menuID  obsID  ones  \n",
       "0  0.171230       2      0       0      0     1  \n",
       "1  0.728234       2      0       1      1     1  \n",
       "2  0.877216       3      0       2      2     1  \n",
       "3  0.683332       3      0       3      3     1  \n",
       "4  0.449690       0      0       4      4     1  \n",
       "\n",
       "[5 rows x 45 columns]"
      ]
     },
     "execution_count": 3,
     "metadata": {},
     "output_type": "execute_result"
    }
   ],
   "source": [
    "from core.dcm_fakedata import generate_fake_data_wide\n",
    "\n",
    "num_resp = 500\n",
    "num_menus = 5\n",
    "num_alternatives = 5\n",
    "\n",
    "true_alpha = np.array([-0.8, 0.8, 1.2])\n",
    "true_beta = np.array([-0.8, 0.8, 1.0, -0.8, 1.5])\n",
    "# dynamic version of generating Omega\n",
    "corr = 0.8\n",
    "scale_factor = 1.0\n",
    "true_Omega = corr*np.ones((len(true_beta),len(true_beta))) # off-diagonal values of cov matrix\n",
    "true_Omega[np.arange(len(true_beta)), np.arange(len(true_beta))] = 1.0 # diagonal values of cov matrix\n",
    "true_Omega *= scale_factor\n",
    "\n",
    "df = generate_fake_data_wide(num_resp, num_menus, num_alternatives, true_alpha, true_beta, true_Omega)\n",
    "df.head()"
   ]
  },
  {
   "cell_type": "markdown",
   "metadata": {},
   "source": [
    "## Mixed Logit specification\n",
    "\n",
    "We now make use of the developed formula interface to specify the utilities of the mixed logit model. \n",
    "\n",
    "We begin by defining the fixed effects parameters, the random effects parameters, and the observed variables. This creates instances of Python objects that can be put together to define the utility functions for the different alternatives.\n",
    "\n",
    "Once the utilities are defined, we collect them in a Python dictionary mapping alternative names to their corresponding expressions."
   ]
  },
  {
   "cell_type": "code",
   "execution_count": 4,
   "metadata": {},
   "outputs": [],
   "source": [
    "from core.dcm_interface import FixedEffect, RandomEffect, ObservedVariable\n",
    "\n",
    "# define fixed effects parameters\n",
    "B_XF1 = FixedEffect('BETA_XF1')\n",
    "B_XF2 = FixedEffect('BETA_XF2')\n",
    "B_XF3 = FixedEffect('BETA_XF3')\n",
    "\n",
    "# define random effects parameters\n",
    "B_XR1 = RandomEffect('BETA_XR1')\n",
    "B_XR2 = RandomEffect('BETA_XR2')\n",
    "B_XR3 = RandomEffect('BETA_XR3')\n",
    "B_XR4 = RandomEffect('BETA_XR4')\n",
    "B_XR5 = RandomEffect('BETA_XR5')\n",
    "\n",
    "# define observed variables\n",
    "for attr in df.columns:\n",
    "    exec(\"%s = ObservedVariable('%s')\" % (attr,attr))\n",
    "\n",
    "# define utility functions\n",
    "V1 = B_XF1*ALT1_XF1 + B_XF2*ALT1_XF2 + B_XF3*ALT1_XF3 + B_XR1*ALT1_XR1 + B_XR2*ALT1_XR2 + B_XR3*ALT1_XR3 + B_XR4*ALT1_XR4 + B_XR5*ALT1_XR5\n",
    "V2 = B_XF1*ALT2_XF1 + B_XF2*ALT2_XF2 + B_XF3*ALT2_XF3 + B_XR1*ALT2_XR1 + B_XR2*ALT2_XR2 + B_XR3*ALT2_XR3 + B_XR4*ALT2_XR4 + B_XR5*ALT2_XR5\n",
    "V3 = B_XF1*ALT3_XF1 + B_XF2*ALT3_XF2 + B_XF3*ALT3_XF3 + B_XR1*ALT3_XR1 + B_XR2*ALT3_XR2 + B_XR3*ALT3_XR3 + B_XR4*ALT3_XR4 + B_XR5*ALT3_XR5\n",
    "V4 = B_XF1*ALT4_XF1 + B_XF2*ALT4_XF2 + B_XF3*ALT4_XF3 + B_XR1*ALT4_XR1 + B_XR2*ALT4_XR2 + B_XR3*ALT4_XR3 + B_XR4*ALT4_XR4 + B_XR5*ALT4_XR5\n",
    "V5 = B_XF1*ALT5_XF1 + B_XF2*ALT5_XF2 + B_XF3*ALT5_XF3 + B_XR1*ALT5_XR1 + B_XR2*ALT5_XR2 + B_XR3*ALT5_XR3 + B_XR4*ALT5_XR4 + B_XR5*ALT5_XR5\n",
    "\n",
    "# associate utility functions with the names of the alternatives\n",
    "utilities = {\"ALT1\": V1, \"ALT2\": V2, \"ALT3\": V3, \"ALT4\": V4, \"ALT5\": V5}"
   ]
  },
  {
   "cell_type": "markdown",
   "metadata": {},
   "source": [
    "We are now ready to create a Specification object containing the utilities that we have just defined. Note that we must also specify the type of choice model to be used - a mixed logit model (MXL) in this case.\n",
    "\n",
    "Note that we can inspect the specification by printing the dcm_spec object."
   ]
  },
  {
   "cell_type": "code",
   "execution_count": 5,
   "metadata": {},
   "outputs": [
    {
     "name": "stdout",
     "output_type": "stream",
     "text": [
      "----------------- MXL specification:\n",
      "Alternatives: ['ALT1', 'ALT2', 'ALT3', 'ALT4', 'ALT5']\n",
      "Utility functions:\n",
      "   V_ALT1 = BETA_XF1*ALT1_XF1 + BETA_XF2*ALT1_XF2 + BETA_XF3*ALT1_XF3 + BETA_XR1_n*ALT1_XR1 + BETA_XR2_n*ALT1_XR2 + BETA_XR3_n*ALT1_XR3 + BETA_XR4_n*ALT1_XR4 + BETA_XR5_n*ALT1_XR5\n",
      "   V_ALT2 = BETA_XF1*ALT2_XF1 + BETA_XF2*ALT2_XF2 + BETA_XF3*ALT2_XF3 + BETA_XR1_n*ALT2_XR1 + BETA_XR2_n*ALT2_XR2 + BETA_XR3_n*ALT2_XR3 + BETA_XR4_n*ALT2_XR4 + BETA_XR5_n*ALT2_XR5\n",
      "   V_ALT3 = BETA_XF1*ALT3_XF1 + BETA_XF2*ALT3_XF2 + BETA_XF3*ALT3_XF3 + BETA_XR1_n*ALT3_XR1 + BETA_XR2_n*ALT3_XR2 + BETA_XR3_n*ALT3_XR3 + BETA_XR4_n*ALT3_XR4 + BETA_XR5_n*ALT3_XR5\n",
      "   V_ALT4 = BETA_XF1*ALT4_XF1 + BETA_XF2*ALT4_XF2 + BETA_XF3*ALT4_XF3 + BETA_XR1_n*ALT4_XR1 + BETA_XR2_n*ALT4_XR2 + BETA_XR3_n*ALT4_XR3 + BETA_XR4_n*ALT4_XR4 + BETA_XR5_n*ALT4_XR5\n",
      "   V_ALT5 = BETA_XF1*ALT5_XF1 + BETA_XF2*ALT5_XF2 + BETA_XF3*ALT5_XF3 + BETA_XR1_n*ALT5_XR1 + BETA_XR2_n*ALT5_XR2 + BETA_XR3_n*ALT5_XR3 + BETA_XR4_n*ALT5_XR4 + BETA_XR5_n*ALT5_XR5\n",
      "\n",
      "Num. parameters to be estimated: 8\n",
      "Fixed effects params: ['BETA_XF1', 'BETA_XF2', 'BETA_XF3']\n",
      "Random effects params: ['BETA_XR1', 'BETA_XR2', 'BETA_XR3', 'BETA_XR4', 'BETA_XR5']\n"
     ]
    }
   ],
   "source": [
    "from core.dcm_interface import Specification\n",
    "\n",
    "# create MXL specification object based on the utilities previously defined\n",
    "dcm_spec = Specification('MXL', utilities)\n",
    "print(dcm_spec)"
   ]
  },
  {
   "cell_type": "markdown",
   "metadata": {},
   "source": [
    "Once the Specification is defined, we need to define the DCM Dataset object that goes along with it. For this, we instantiate the Dataset class with the Pandas dataframe containing the data in the so-called \"wide format\", the name of column in the dataframe containing the observed choices and the dcm_spec that we have previously created.\n",
    "\n",
    "Note that since this is panel data, we must also specify the name of the column in the dataframe that contains the ID of the respondent (this should be a integer ranging from 0 the num_resp-1)."
   ]
  },
  {
   "cell_type": "code",
   "execution_count": 6,
   "metadata": {
    "scrolled": false
   },
   "outputs": [
    {
     "name": "stdout",
     "output_type": "stream",
     "text": [
      "Preparing dataset...\n",
      "\tModel type: MXL\n",
      "\tNum. observations: 2500\n",
      "\tNum. alternatives: 5\n",
      "\tNum. respondents: 500\n",
      "\tNum. menus: 5\n",
      "\tObservations IDs: [   0    1    2 ... 2497 2498 2499]\n",
      "\tAlternative IDs: None\n",
      "\tRespondent IDs: [  0   0   0 ... 499 499 499]\n",
      "\tAvailability columns: None\n",
      "\tAttribute names: ['ALT1_XF1', 'ALT1_XF2', 'ALT1_XF3', 'ALT1_XR1', 'ALT1_XR2', 'ALT1_XR3', 'ALT1_XR4', 'ALT1_XR5', 'ALT2_XF1', 'ALT2_XF2', 'ALT2_XF3', 'ALT2_XR1', 'ALT2_XR2', 'ALT2_XR3', 'ALT2_XR4', 'ALT2_XR5', 'ALT3_XF1', 'ALT3_XF2', 'ALT3_XF3', 'ALT3_XR1', 'ALT3_XR2', 'ALT3_XR3', 'ALT3_XR4', 'ALT3_XR5', 'ALT4_XF1', 'ALT4_XF2', 'ALT4_XF3', 'ALT4_XR1', 'ALT4_XR2', 'ALT4_XR3', 'ALT4_XR4', 'ALT4_XR5', 'ALT5_XF1', 'ALT5_XF2', 'ALT5_XF3', 'ALT5_XR1', 'ALT5_XR2', 'ALT5_XR3', 'ALT5_XR4', 'ALT5_XR5']\n",
      "\tFixed effects attribute names: ['ALT1_XF1', 'ALT1_XF2', 'ALT1_XF3', 'ALT2_XF1', 'ALT2_XF2', 'ALT2_XF3', 'ALT3_XF1', 'ALT3_XF2', 'ALT3_XF3', 'ALT4_XF1', 'ALT4_XF2', 'ALT4_XF3', 'ALT5_XF1', 'ALT5_XF2', 'ALT5_XF3']\n",
      "\tFixed effects parameter names: ['BETA_XF1', 'BETA_XF2', 'BETA_XF3', 'BETA_XF1', 'BETA_XF2', 'BETA_XF3', 'BETA_XF1', 'BETA_XF2', 'BETA_XF3', 'BETA_XF1', 'BETA_XF2', 'BETA_XF3', 'BETA_XF1', 'BETA_XF2', 'BETA_XF3']\n",
      "\tRandom effects attribute names: ['ALT1_XR1', 'ALT1_XR2', 'ALT1_XR3', 'ALT1_XR4', 'ALT1_XR5', 'ALT2_XR1', 'ALT2_XR2', 'ALT2_XR3', 'ALT2_XR4', 'ALT2_XR5', 'ALT3_XR1', 'ALT3_XR2', 'ALT3_XR3', 'ALT3_XR4', 'ALT3_XR5', 'ALT4_XR1', 'ALT4_XR2', 'ALT4_XR3', 'ALT4_XR4', 'ALT4_XR5', 'ALT5_XR1', 'ALT5_XR2', 'ALT5_XR3', 'ALT5_XR4', 'ALT5_XR5']\n",
      "\tRandom effects parameter names: ['BETA_XR1', 'BETA_XR2', 'BETA_XR3', 'BETA_XR4', 'BETA_XR5', 'BETA_XR1', 'BETA_XR2', 'BETA_XR3', 'BETA_XR4', 'BETA_XR5', 'BETA_XR1', 'BETA_XR2', 'BETA_XR3', 'BETA_XR4', 'BETA_XR5', 'BETA_XR1', 'BETA_XR2', 'BETA_XR3', 'BETA_XR4', 'BETA_XR5', 'BETA_XR1', 'BETA_XR2', 'BETA_XR3', 'BETA_XR4', 'BETA_XR5']\n",
      "\tAlternative attributes ndarray.shape: (500, 5, 40)\n",
      "\tChoices ndarray.shape: (500, 5)\n",
      "\tAlternatives availability ndarray.shape: (500, 5, 5)\n",
      "\tData mask ndarray.shape: (500, 5)\n",
      "\tContext data ndarray.shape: (500, 0)\n",
      "\tNeural nets data ndarray.shape: (500, 0)\n",
      "Done!\n"
     ]
    }
   ],
   "source": [
    "from core.dcm_interface import Dataset\n",
    "\n",
    "# create DCM dataset object\n",
    "dcm_dataset = Dataset(df, 'choice', dcm_spec, resp_id_col='indID')"
   ]
  },
  {
   "cell_type": "markdown",
   "metadata": {},
   "source": [
    "As with the specification, we can inspect the DCM dataset by printing the dcm_dataset object:"
   ]
  },
  {
   "cell_type": "code",
   "execution_count": 7,
   "metadata": {
    "scrolled": false
   },
   "outputs": [
    {
     "name": "stdout",
     "output_type": "stream",
     "text": [
      "----------------- DCM dataset:\n",
      "Model type: MXL\n",
      "Num. observations: 2500\n",
      "Num. alternatives: 5\n",
      "Num. respondents: 500\n",
      "Num. menus: 5\n",
      "Num. fixed effects: 15\n",
      "Num. random effects: 25\n",
      "Attribute names: ['ALT1_XF1', 'ALT1_XF2', 'ALT1_XF3', 'ALT1_XR1', 'ALT1_XR2', 'ALT1_XR3', 'ALT1_XR4', 'ALT1_XR5', 'ALT2_XF1', 'ALT2_XF2', 'ALT2_XF3', 'ALT2_XR1', 'ALT2_XR2', 'ALT2_XR3', 'ALT2_XR4', 'ALT2_XR5', 'ALT3_XF1', 'ALT3_XF2', 'ALT3_XF3', 'ALT3_XR1', 'ALT3_XR2', 'ALT3_XR3', 'ALT3_XR4', 'ALT3_XR5', 'ALT4_XF1', 'ALT4_XF2', 'ALT4_XF3', 'ALT4_XR1', 'ALT4_XR2', 'ALT4_XR3', 'ALT4_XR4', 'ALT4_XR5', 'ALT5_XF1', 'ALT5_XF2', 'ALT5_XF3', 'ALT5_XR1', 'ALT5_XR2', 'ALT5_XR3', 'ALT5_XR4', 'ALT5_XR5']\n"
     ]
    }
   ],
   "source": [
    "print(dcm_dataset)"
   ]
  },
  {
   "cell_type": "markdown",
   "metadata": {},
   "source": [
    "## Bayesian Mixed Logit Model in PyTorch\n",
    "\n",
    "It is now time to perform approximate Bayesian inference on the mixed logit model that we have specified. The generative process of the MXL model that we will be using is the following:\n",
    "\n",
    "1. Draw fixed taste parameters $\\boldsymbol\\alpha \\sim \\mathcal{N}(\\boldsymbol\\lambda_0, \\boldsymbol\\Xi_0)$\n",
    "2. Draw mean vector $\\boldsymbol\\zeta \\sim \\mathcal{N}(\\boldsymbol\\mu_0, \\boldsymbol\\Sigma_0)$\n",
    "3. Draw scales vector $\\boldsymbol\\theta \\sim \\mbox{half-Cauchy}(\\boldsymbol\\sigma_0)$\n",
    "4. Draw correlation matrix $\\boldsymbol\\Psi \\sim \\mbox{LKJ}(\\nu)$\n",
    "5. For each decision-maker $n \\in \\{1,\\dots,N\\}$\n",
    "    1. Draw random taste parameters $\\boldsymbol\\beta_n \\sim \\mathcal{N}(\\boldsymbol\\zeta,\\boldsymbol\\Omega)$\n",
    "    2. For each choice occasion $t \\in \\{1,\\dots,T_n\\}$\n",
    "        1. Draw observed choice $y_{nt} \\sim \\mbox{MNL}(\\boldsymbol\\alpha, \\boldsymbol\\beta_n, \\textbf{X}_{nt})$\n",
    "        \n",
    "where $\\boldsymbol\\Omega = \\mbox{diag}(\\boldsymbol\\theta) \\times \\boldsymbol\\Psi \\times  \\mbox{diag}(\\boldsymbol\\theta)$.\n",
    "\n",
    "We can instantiate this model from the TorchMXL using the following code. We can the run variational inference to approximate the posterior distribution of the latent variables in the model. Note that since in this case we know the true parameters that were used to generate the simualated choice data, we can pass them to the \"infer\" method in order to obtain additional information during the ELBO maximization (useful for tracking the progress of VI and for other debugging purposes). "
   ]
  },
  {
   "cell_type": "code",
   "execution_count": 8,
   "metadata": {},
   "outputs": [
    {
     "name": "stdout",
     "output_type": "stream",
     "text": [
      "[Epoch     0] ELBO: 7428; Loglik: -4876; Acc.: 0.268; Alpha RMSE: 0.956; Beta RMSE: 1.016\n",
      "[Epoch   100] ELBO: 5656; Loglik: -4193; Acc.: 0.277; Alpha RMSE: 0.454; Beta RMSE: 1.029\n",
      "[Epoch   200] ELBO: 5232; Loglik: -3908; Acc.: 0.330; Alpha RMSE: 0.276; Beta RMSE: 1.008\n",
      "[Epoch   300] ELBO: 4614; Loglik: -3781; Acc.: 0.352; Alpha RMSE: 0.169; Beta RMSE: 0.954\n",
      "[Epoch   400] ELBO: 4859; Loglik: -3636; Acc.: 0.394; Alpha RMSE: 0.145; Beta RMSE: 0.917\n",
      "[Epoch   500] ELBO: 4544; Loglik: -3590; Acc.: 0.396; Alpha RMSE: 0.138; Beta RMSE: 0.885\n",
      "[Epoch   600] ELBO: 4156; Loglik: -3443; Acc.: 0.434; Alpha RMSE: 0.141; Beta RMSE: 0.816\n",
      "[Epoch   700] ELBO: 4119; Loglik: -3361; Acc.: 0.440; Alpha RMSE: 0.128; Beta RMSE: 0.751\n",
      "[Epoch   800] ELBO: 4116; Loglik: -3340; Acc.: 0.455; Alpha RMSE: 0.098; Beta RMSE: 0.717\n",
      "[Epoch   900] ELBO: 4126; Loglik: -3342; Acc.: 0.445; Alpha RMSE: 0.119; Beta RMSE: 0.659\n",
      "[Epoch  1000] ELBO: 3971; Loglik: -3247; Acc.: 0.471; Alpha RMSE: 0.116; Beta RMSE: 0.607\n",
      "[Epoch  1100] ELBO: 4128; Loglik: -3248; Acc.: 0.469; Alpha RMSE: 0.119; Beta RMSE: 0.559\n",
      "[Epoch  1200] ELBO: 3923; Loglik: -3234; Acc.: 0.459; Alpha RMSE: 0.131; Beta RMSE: 0.506\n",
      "[Epoch  1300] ELBO: 4097; Loglik: -3168; Acc.: 0.480; Alpha RMSE: 0.124; Beta RMSE: 0.461\n",
      "[Epoch  1400] ELBO: 4059; Loglik: -3177; Acc.: 0.473; Alpha RMSE: 0.127; Beta RMSE: 0.425\n",
      "[Epoch  1500] ELBO: 3921; Loglik: -3126; Acc.: 0.472; Alpha RMSE: 0.126; Beta RMSE: 0.386\n",
      "[Epoch  1600] ELBO: 4151; Loglik: -3184; Acc.: 0.480; Alpha RMSE: 0.136; Beta RMSE: 0.354\n",
      "[Epoch  1700] ELBO: 3896; Loglik: -3127; Acc.: 0.486; Alpha RMSE: 0.142; Beta RMSE: 0.315\n",
      "[Epoch  1800] ELBO: 3799; Loglik: -3105; Acc.: 0.485; Alpha RMSE: 0.142; Beta RMSE: 0.278\n",
      "[Epoch  1900] ELBO: 3986; Loglik: -3128; Acc.: 0.481; Alpha RMSE: 0.136; Beta RMSE: 0.242\n",
      "[Epoch  2000] ELBO: 3934; Loglik: -3132; Acc.: 0.493; Alpha RMSE: 0.126; Beta RMSE: 0.228\n",
      "[Epoch  2100] ELBO: 3859; Loglik: -3113; Acc.: 0.490; Alpha RMSE: 0.150; Beta RMSE: 0.196\n",
      "[Epoch  2200] ELBO: 3842; Loglik: -3119; Acc.: 0.488; Alpha RMSE: 0.129; Beta RMSE: 0.181\n",
      "[Epoch  2300] ELBO: 3804; Loglik: -3111; Acc.: 0.488; Alpha RMSE: 0.129; Beta RMSE: 0.159\n",
      "[Epoch  2400] ELBO: 3748; Loglik: -3043; Acc.: 0.488; Alpha RMSE: 0.139; Beta RMSE: 0.143\n",
      "[Epoch  2500] ELBO: 3859; Loglik: -3121; Acc.: 0.483; Alpha RMSE: 0.139; Beta RMSE: 0.129\n",
      "[Epoch  2600] ELBO: 3764; Loglik: -3093; Acc.: 0.489; Alpha RMSE: 0.142; Beta RMSE: 0.123\n",
      "[Epoch  2700] ELBO: 3855; Loglik: -3140; Acc.: 0.484; Alpha RMSE: 0.135; Beta RMSE: 0.122\n",
      "[Epoch  2800] ELBO: 3754; Loglik: -3055; Acc.: 0.502; Alpha RMSE: 0.139; Beta RMSE: 0.118\n",
      "[Epoch  2900] ELBO: 3770; Loglik: -3128; Acc.: 0.485; Alpha RMSE: 0.139; Beta RMSE: 0.133\n",
      "[Epoch  3000] ELBO: 3775; Loglik: -3112; Acc.: 0.484; Alpha RMSE: 0.152; Beta RMSE: 0.127\n",
      "[Epoch  3100] ELBO: 3723; Loglik: -3118; Acc.: 0.471; Alpha RMSE: 0.156; Beta RMSE: 0.126\n",
      "[Epoch  3200] ELBO: 3760; Loglik: -3121; Acc.: 0.486; Alpha RMSE: 0.153; Beta RMSE: 0.136\n",
      "[Epoch  3300] ELBO: 3711; Loglik: -3105; Acc.: 0.483; Alpha RMSE: 0.142; Beta RMSE: 0.134\n",
      "[Epoch  3400] ELBO: 3862; Loglik: -3103; Acc.: 0.493; Alpha RMSE: 0.142; Beta RMSE: 0.147\n",
      "[Epoch  3500] ELBO: 3707; Loglik: -3097; Acc.: 0.497; Alpha RMSE: 0.155; Beta RMSE: 0.155\n",
      "[Epoch  3600] ELBO: 3721; Loglik: -3086; Acc.: 0.500; Alpha RMSE: 0.115; Beta RMSE: 0.155\n",
      "[Epoch  3700] ELBO: 3754; Loglik: -3137; Acc.: 0.472; Alpha RMSE: 0.150; Beta RMSE: 0.161\n",
      "[Epoch  3800] ELBO: 3756; Loglik: -3135; Acc.: 0.490; Alpha RMSE: 0.131; Beta RMSE: 0.162\n",
      "[Epoch  3900] ELBO: 3673; Loglik: -3092; Acc.: 0.488; Alpha RMSE: 0.113; Beta RMSE: 0.158\n",
      "[Epoch  4000] ELBO: 3685; Loglik: -3092; Acc.: 0.491; Alpha RMSE: 0.165; Beta RMSE: 0.171\n",
      "[Epoch  4100] ELBO: 3684; Loglik: -3111; Acc.: 0.489; Alpha RMSE: 0.152; Beta RMSE: 0.176\n",
      "[Epoch  4200] ELBO: 3729; Loglik: -3135; Acc.: 0.483; Alpha RMSE: 0.130; Beta RMSE: 0.176\n",
      "[Epoch  4300] ELBO: 3726; Loglik: -3154; Acc.: 0.482; Alpha RMSE: 0.131; Beta RMSE: 0.182\n",
      "[Epoch  4400] ELBO: 3659; Loglik: -3133; Acc.: 0.474; Alpha RMSE: 0.147; Beta RMSE: 0.169\n",
      "[Epoch  4500] ELBO: 3757; Loglik: -3190; Acc.: 0.468; Alpha RMSE: 0.151; Beta RMSE: 0.171\n",
      "[Epoch  4600] ELBO: 3707; Loglik: -3152; Acc.: 0.488; Alpha RMSE: 0.126; Beta RMSE: 0.164\n",
      "[Epoch  4700] ELBO: 3702; Loglik: -3167; Acc.: 0.466; Alpha RMSE: 0.127; Beta RMSE: 0.163\n",
      "[Epoch  4800] ELBO: 3677; Loglik: -3185; Acc.: 0.469; Alpha RMSE: 0.152; Beta RMSE: 0.167\n",
      "[Epoch  4900] ELBO: 3620; Loglik: -3095; Acc.: 0.485; Alpha RMSE: 0.140; Beta RMSE: 0.156\n",
      "Elapsed time: 52.518136978149414 \n",
      "\n",
      "True alpha: [-0.8  0.8  1.2]\n",
      "Est. alpha: [-0.8419747  0.5771282  1.299261 ]\n",
      "\tBETA_XF1: -0.842\n",
      "\tBETA_XF2: 0.577\n",
      "\tBETA_XF3: 1.299\n",
      "\n",
      "True zeta: [-0.8  0.8  1.  -0.8  1.5]\n",
      "Est. zeta: [-0.9544799   1.0250103   1.2386111  -0.77725005  1.4969333 ]\n",
      "\tBETA_XR1: -0.954\n",
      "\tBETA_XR2: 1.025\n",
      "\tBETA_XR3: 1.239\n",
      "\tBETA_XR4: -0.777\n",
      "\tBETA_XR5: 1.497\n",
      "\n"
     ]
    },
    {
     "data": {
      "image/png": "[encoded data removed]",
      "text/plain": [
       "<Figure size 432x288 with 1 Axes>"
      ]
     },
     "metadata": {
      "needs_background": "light"
     },
     "output_type": "display_data"
    },
    {
     "name": "stdout",
     "output_type": "stream",
     "text": [
      "CPU times: user 11min 8s, sys: 1.46 s, total: 11min 10s\n",
      "Wall time: 56.9 s\n"
     ]
    }
   ],
   "source": [
    "%%time\n",
    "\n",
    "from core.torch_mxl import TorchMXL\n",
    "\n",
    "# instantiate MXL model\n",
    "mxl = TorchMXL(dcm_dataset, batch_size=num_resp, use_inference_net=False, use_cuda=True)\n",
    "\n",
    "# run Bayesian inference (variational inference)\n",
    "results = mxl.infer(num_epochs=5000, true_alpha=true_alpha, true_beta=true_beta)"
   ]
  },
  {
   "cell_type": "markdown",
   "metadata": {},
   "source": [
    "The \"results\" dictionary containts a summary of the results of variational inference, including means of the posterior approximations for the different parameters in the model:"
   ]
  },
  {
   "cell_type": "code",
   "execution_count": 9,
   "metadata": {},
   "outputs": [
    {
     "data": {
      "text/plain": [
       "{'Estimation time': 52.518136978149414,\n",
       " 'Est. alpha': array([-0.8419747,  0.5771282,  1.299261 ], dtype=float32),\n",
       " 'Est. zeta': array([-0.9544799 ,  1.0250103 ,  1.2386111 , -0.77725005,  1.4969333 ],\n",
       "       dtype=float32),\n",
       " 'Est. beta_n': array([[-0.56263924,  2.9345584 ,  2.4702363 ,  0.7301733 ,  2.4709947 ],\n",
       "        [-0.3698063 ,  2.8016741 ,  2.297282  , -0.38901985,  2.3509915 ],\n",
       "        [-0.58884895,  2.2854605 ,  1.1721512 ,  0.16676623,  3.0266285 ],\n",
       "        ...,\n",
       "        [-1.0157999 ,  0.24311072,  1.3598838 , -1.3250613 ,  1.9183552 ],\n",
       "        [-0.6001202 ,  1.3282468 ,  1.4673239 , -1.0427698 ,  1.5922487 ],\n",
       "        [-1.0197037 ,  1.1105068 ,  0.93041176, -1.0051538 ,  2.0541196 ]],\n",
       "       dtype=float32),\n",
       " 'ELBO': 3681.989013671875,\n",
       " 'Loglikelihood': -3177.2197265625,\n",
       " 'Accuracy': 0.47360000014305115}"
      ]
     },
     "execution_count": 9,
     "metadata": {},
     "output_type": "execute_result"
    }
   ],
   "source": [
    "results"
   ]
  },
  {
   "cell_type": "markdown",
   "metadata": {},
   "source": [
    "This interface is currently being improved to include additional output information, but additional information can be obtained from the attributes of the \"mxl\" object for now. "
   ]
  }
 ],
 "metadata": {
  "kernelspec": {
   "display_name": "Python 3 (ipykernel)",
   "language": "python",
   "name": "python3"
  },
  "language_info": {
   "codemirror_mode": {
    "name": "ipython",
    "version": 3
   },
   "file_extension": ".py",
   "mimetype": "text/x-python",
   "name": "python",
   "nbconvert_exporter": "python",
   "pygments_lexer": "ipython3",
   "version": "3.8.10"
  },
  "widgets": {
   "application/vnd.jupyter.widget-state+json": {
    "state": {},
    "version_major": 2,
    "version_minor": 0
   }
  }
 },
 "nbformat": 4,
 "nbformat_minor": 4
}
